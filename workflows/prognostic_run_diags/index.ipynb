{
 "cells": [
  {
   "cell_type": "code",
   "execution_count": null,
   "metadata": {},
   "outputs": [],
   "source": [
    "import os\n",
    "import xarray as xr\n",
    "import visualize as viz\n",
    "import holoviews as hv\n",
    "\n",
    "hv.extension('bokeh')\n",
    "\n",
    "def get_map(diag_type, diags, label=None):\n",
    "    global_avg = hv.HoloMap(kdims=['field'])\n",
    "    for variable in diags:\n",
    "        if variable.endswith(diag_type) and set(diags[variable].dims) == {\"time\"}:\n",
    "            long_name  = diags[variable].attrs.get('long_name', variable)\n",
    "            global_avg[long_name] = (\n",
    "                hv.Curve(diags[variable], label=label)\n",
    "                .redim.unit(variable=diags[variable].attrs.get('units', ''))\n",
    "            )\n",
    "\n",
    "    return global_avg\n",
    "\n",
    "\n",
    "def convert_time_index_to_datetime(ds, dim):\n",
    "    return ds.assign_coords({dim: ds.indexes[dim].to_datetimeindex()})"
   ]
  },
  {
   "cell_type": "code",
   "execution_count": null,
   "metadata": {},
   "outputs": [],
   "source": [
    "\n",
    "diags = xr.open_dataset('diags.nc')\n",
    "\n",
    "# convert to datetime for plotting with bokeh\n",
    "# cftime time indices raise tons of annoying errors with bokeh\n",
    "diags = convert_time_index_to_datetime(diags, 'time')"
   ]
  },
  {
   "cell_type": "markdown",
   "metadata": {},
   "source": [
    "# Information about diagnostics"
   ]
  },
  {
   "cell_type": "code",
   "execution_count": null,
   "metadata": {},
   "outputs": [],
   "source": [
    "diags.info()"
   ]
  },
  {
   "cell_type": "markdown",
   "metadata": {},
   "source": [
    "# Maps"
   ]
  },
  {
   "cell_type": "code",
   "execution_count": null,
   "metadata": {},
   "outputs": [],
   "source": [
    "viz.plot_cube(viz.mappable_var(diags, 'pwat_run_initial'));"
   ]
  },
  {
   "cell_type": "code",
   "execution_count": null,
   "metadata": {},
   "outputs": [],
   "source": [
    "viz.plot_cube(viz.mappable_var(diags, 'pwat_run_final'));"
   ]
  },
  {
   "cell_type": "code",
   "execution_count": null,
   "metadata": {},
   "outputs": [],
   "source": [
    "viz.plot_cube(viz.mappable_var(diags, 'pwat_verification_final'));"
   ]
  },
  {
   "cell_type": "code",
   "execution_count": null,
   "metadata": {},
   "outputs": [],
   "source": [
    "%%output size=100\n",
    "%%opts Curve[aspect=1.61] {+framewise}\n",
    "get_map('rms_global', diags, label='RMSE Global')"
   ]
  },
  {
   "cell_type": "code",
   "execution_count": null,
   "metadata": {},
   "outputs": [],
   "source": [
    "%%opts Curve[aspect=1.61] {+framewise}\n",
    "get_map('global_avg', diags, label='Global Average')"
   ]
  }
 ],
 "metadata": {
  "kernelspec": {
   "display_name": "Python 3",
   "language": "python",
   "name": "python3"
  },
  "language_info": {
   "codemirror_mode": {
    "name": "ipython",
    "version": 3
   },
   "file_extension": ".py",
   "mimetype": "text/x-python",
   "name": "python",
   "nbconvert_exporter": "python",
   "pygments_lexer": "ipython3",
   "version": "3.7.7"
  }
 },
 "nbformat": 4,
 "nbformat_minor": 4
}
