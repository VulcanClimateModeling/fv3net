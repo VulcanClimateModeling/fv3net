{
 "cells": [
  {
   "cell_type": "code",
   "execution_count": null,
   "metadata": {},
   "outputs": [],
   "source": [
    "import yaml\n",
    "import os\n",
    "import xarray as xr\n",
    "import fsspec\n",
    "import pandas as pd\n",
    "\n",
    "def convert_time_index_to_datetime(ds, dim):\n",
    "    return ds.assign_coords({dim: ds.indexes[dim].to_datetimeindex()})"
   ]
  },
  {
   "cell_type": "code",
   "execution_count": null,
   "metadata": {},
   "outputs": [],
   "source": [
    "with open(\"rundirs.yml\") as f:\n",
    "    rundirs = yaml.safe_load(f)\n",
    "\n",
    "BUCKET = 'gs://vcm-ml-data/testing-2020-02/' \n",
    "metrics = {}\n",
    "\n",
    "for rundir in rundirs:\n",
    "    path = os.path.join(BUCKET, f\"{rundir['name']}.nc\")\n",
    "    with fsspec.open(path, \"rb\") as f:\n",
    "        metrics[rundir['name']] = xr.open_dataset(f, engine='h5netcdf').load()"
   ]
  },
  {
   "cell_type": "code",
   "execution_count": null,
   "metadata": {},
   "outputs": [],
   "source": [
    "import holoviews as hv\n",
    "hv.extension('bokeh')"
   ]
  },
  {
   "cell_type": "code",
   "execution_count": null,
   "metadata": {},
   "outputs": [],
   "source": [
    "def get_ts(ds):\n",
    "    return ds.drop([key for key in ds if set(ds[key].dims) != {'time'}])"
   ]
  },
  {
   "cell_type": "code",
   "execution_count": null,
   "metadata": {},
   "outputs": [],
   "source": [
    "time_series = {key: convert_time_index_to_datetime(get_ts(ds), 'time') for key, ds in metrics.items()}"
   ]
  },
  {
   "cell_type": "code",
   "execution_count": null,
   "metadata": {},
   "outputs": [],
   "source": [
    "def holomap_filter(time_series, varfilter):\n",
    "    p = hv.Cycle('Colorblind')\n",
    "    hmap = hv.HoloMap(kdims=['variable', 'run'])\n",
    "    for run, ds in time_series.items():\n",
    "        for varname in ds:\n",
    "            if varfilter in varname:\n",
    "                try:\n",
    "                    v = ds[varname].load()\n",
    "                except:\n",
    "                    pass\n",
    "                else:\n",
    "                    if run.endswith('baseline'):\n",
    "                        style= 'dashed'\n",
    "                    else:\n",
    "                        style = 'solid'\n",
    "                    long_name = ds[varname].long_name\n",
    "                    hmap[(long_name, run)] = hv.Curve(v, label=varfilter).options(line_dash=style, color=p)\n",
    "    return hmap"
   ]
  },
  {
   "cell_type": "markdown",
   "metadata": {},
   "source": [
    "# RMS Errors"
   ]
  },
  {
   "cell_type": "code",
   "execution_count": null,
   "metadata": {},
   "outputs": [],
   "source": [
    "%%opts Curve [width=800, height=600] {+framewise}\n",
    "hmap = holomap_filter(time_series, 'rms')\n",
    "hmap.overlay('run')"
   ]
  },
  {
   "cell_type": "markdown",
   "metadata": {},
   "source": [
    "# Global Averages"
   ]
  },
  {
   "cell_type": "code",
   "execution_count": null,
   "metadata": {},
   "outputs": [],
   "source": [
    "%%opts Curve [width=800, height=600] {+framewise}\n",
    "hmap = holomap_filter(time_series, 'global_avg')\n",
    "hmap.overlay('run')"
   ]
  }
 ],
 "metadata": {
  "kernelspec": {
   "display_name": "Python 3",
   "language": "python",
   "name": "python3"
  },
  "language_info": {
   "codemirror_mode": {
    "name": "ipython",
    "version": 3
   },
   "file_extension": ".py",
   "mimetype": "text/x-python",
   "name": "python",
   "nbconvert_exporter": "python",
   "pygments_lexer": "ipython3",
   "version": "3.7.6"
  }
 },
 "nbformat": 4,
 "nbformat_minor": 4
}
