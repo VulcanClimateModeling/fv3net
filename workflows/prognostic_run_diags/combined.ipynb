{
 "cells": [
  {
   "cell_type": "code",
   "execution_count": null,
   "metadata": {},
   "outputs": [],
   "source": [
    "import yaml\n",
    "import os\n",
    "import xarray as xr\n",
    "import fsspec\n",
    "import pandas as pd\n",
    "from pathlib import Path\n",
    "\n",
    "def convert_time_index_to_datetime(ds, dim):\n",
    "    return ds.assign_coords({dim: ds.indexes[dim].to_datetimeindex()})"
   ]
  },
  {
   "cell_type": "code",
   "execution_count": null,
   "metadata": {},
   "outputs": [],
   "source": [
    "fs = fsspec.filesystem('gs')"
   ]
  },
  {
   "cell_type": "code",
   "execution_count": null,
   "metadata": {},
   "outputs": [],
   "source": [
    "def detect_rundirs(bucket):\n",
    "    diag_ncs =  fs.glob(os.path.join(bucket, '*', 'diags.nc'))\n",
    "    return [Path(url).parent.name for url in diag_ncs]"
   ]
  },
  {
   "cell_type": "code",
   "execution_count": null,
   "metadata": {},
   "outputs": [],
   "source": [
    "BUCKET = os.getenv('INPUT', \"gs://vcm-ml-data/experiments-2020-03/prognostic_run_diags\")\n",
    "\n",
    "rundirs = detect_rundirs(BUCKET)\n",
    "\n",
    "metrics = {}\n",
    "\n",
    "for rundir in rundirs:\n",
    "    path = os.path.join(BUCKET, rundir, 'diags.nc')\n",
    "    with fsspec.open(path, \"rb\") as f:\n",
    "        metrics[rundir] = xr.open_dataset(f, engine='h5netcdf').load()"
   ]
  },
  {
   "cell_type": "code",
   "execution_count": null,
   "metadata": {},
   "outputs": [],
   "source": [
    "import holoviews as hv\n",
    "hv.extension('bokeh')"
   ]
  },
  {
   "cell_type": "code",
   "execution_count": null,
   "metadata": {},
   "outputs": [],
   "source": [
    "def get_ts(ds):\n",
    "    return ds.drop([key for key in ds if set(ds[key].dims) != {'time'}])"
   ]
  },
  {
   "cell_type": "code",
   "execution_count": null,
   "metadata": {},
   "outputs": [],
   "source": [
    "time_series = {key: convert_time_index_to_datetime(get_ts(ds), 'time') for key, ds in metrics.items()}"
   ]
  },
  {
   "cell_type": "code",
   "execution_count": null,
   "metadata": {},
   "outputs": [],
   "source": [
    "def holomap_filter(time_series, varfilter):\n",
    "    p = hv.Cycle('Colorblind')\n",
    "    hmap = hv.HoloMap(kdims=['variable', 'run'])\n",
    "    for run, ds in time_series.items():\n",
    "        for varname in ds:\n",
    "            if varfilter in varname:\n",
    "                try:\n",
    "                    v = ds[varname].load()\n",
    "                except:\n",
    "                    pass\n",
    "                else:\n",
    "                    if run.endswith('baseline'):\n",
    "                        style= 'dashed'\n",
    "                    else:\n",
    "                        style = 'solid'\n",
    "                    long_name = ds[varname].long_name\n",
    "                    hmap[(long_name, run)] = hv.Curve(v, label=varfilter).options(line_dash=style, color=p)\n",
    "    return hmap"
   ]
  },
  {
   "cell_type": "markdown",
   "metadata": {},
   "source": [
    "# RMS Errors"
   ]
  },
  {
   "cell_type": "code",
   "execution_count": null,
   "metadata": {},
   "outputs": [],
   "source": [
    "%%opts Curve [width=700, height=500] {+framewise}\n",
    "hmap = holomap_filter(time_series, 'rms')\n",
    "hmap.overlay('run')"
   ]
  },
  {
   "cell_type": "markdown",
   "metadata": {},
   "source": [
    "# Global Averages"
   ]
  },
  {
   "cell_type": "code",
   "execution_count": null,
   "metadata": {},
   "outputs": [],
   "source": [
    "%%opts Curve [width=700, height=500] {+framewise}\n",
    "hmap = holomap_filter(time_series, 'global_avg')\n",
    "hmap.overlay('run')"
   ]
  },
  {
   "cell_type": "markdown",
   "metadata": {},
   "source": [
    "# Scalar Metrics"
   ]
  },
  {
   "cell_type": "code",
   "execution_count": null,
   "metadata": {},
   "outputs": [],
   "source": [
    "import json\n",
    "\n",
    "def flatten(metrics):\n",
    "    for run in metrics:\n",
    "        for name in metrics[run]:\n",
    "            baseline_s = '-baseline'\n",
    "            rf_s = '-rf'\n",
    "            if run.endswith(baseline_s):\n",
    "                baseline= \"Baseline\"\n",
    "                one_step = run[:-len(baseline_s)]\n",
    "            elif run.endswith(rf_s):\n",
    "                one_step = run[:-len(rf_s)]\n",
    "                baseline= \"RF\"\n",
    "            yield one_step, baseline, name, metrics[run][name]['value']\n",
    "\n",
    "            \n",
    "metrics = {}\n",
    "\n",
    "for rundir in rundirs:\n",
    "    path = os.path.join(BUCKET, rundir, 'metrics.json')\n",
    "    with fsspec.open(path, \"rb\") as f:\n",
    "        metrics[rundir] = json.load(f)\n",
    "            \n",
    "            \n",
    "df = pd.DataFrame(flatten(metrics), columns=['one_step', 'baseline', 'metric', 'value'])\n",
    "\n",
    "\n",
    "# collect data into a holoviews object\n",
    "hmap = hv.HoloMap(kdims=[\"metric\"])\n",
    "bias = hv.HoloMap(kdims=[\"metric\"])\n",
    "\n",
    "for metric in df.metric.unique():\n",
    "    s = df[df.metric==metric]\n",
    "    bars = hv.Bars((s.one_step, s.baseline, s.value), kdims=[\"one_step\", \"type\"])\n",
    "    \n",
    "    if metric.startswith('rmse'):\n",
    "        hmap[metric] = bars\n",
    "    elif metric.startswith('drift'):\n",
    "        bias[metric] = bars"
   ]
  },
  {
   "cell_type": "code",
   "execution_count": null,
   "metadata": {},
   "outputs": [],
   "source": [
    "%%opts Bars [width=600] {+framewise}\n",
    "hmap"
   ]
  },
  {
   "cell_type": "code",
   "execution_count": null,
   "metadata": {},
   "outputs": [],
   "source": [
    "%%opts Bars [width=600] {+framewise}\n",
    "bias"
   ]
  }
 ],
 "metadata": {
  "kernelspec": {
   "display_name": "Python 3",
   "language": "python",
   "name": "python3"
  },
  "language_info": {
   "codemirror_mode": {
    "name": "ipython",
    "version": 3
   },
   "file_extension": ".py",
   "mimetype": "text/x-python",
   "name": "python",
   "nbconvert_exporter": "python",
   "pygments_lexer": "ipython3",
   "version": "3.7.6"
  }
 },
 "nbformat": 4,
 "nbformat_minor": 4
}
