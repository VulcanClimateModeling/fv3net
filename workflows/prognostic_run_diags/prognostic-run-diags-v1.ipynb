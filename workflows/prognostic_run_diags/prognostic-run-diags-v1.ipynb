{
 "cells": [
  {
   "cell_type": "code",
   "execution_count": null,
   "metadata": {},
   "outputs": [],
   "source": [
    "import os\n",
    "import fsspec\n",
    "import xarray as xr\n",
    "import vcm\n",
    "\n",
    "import pandas as pd\n",
    "\n",
    "import intake\n",
    "\n",
    "import numpy as np"
   ]
  },
  {
   "cell_type": "code",
   "execution_count": null,
   "metadata": {},
   "outputs": [],
   "source": [
    "url = os.environ['PROG_RUN_LOCATION']\n",
    "grid_c384 = vcm.open_tiles('gs://vcm-ml-data/2020-01-06-C384-grid-spec-with-area-dx-dy/grid_spec')"
   ]
  },
  {
   "cell_type": "code",
   "execution_count": null,
   "metadata": {},
   "outputs": [],
   "source": [
    "catalog = intake.open_catalog(\"../../catalog.yml\")"
   ]
  },
  {
   "cell_type": "code",
   "execution_count": null,
   "metadata": {},
   "outputs": [],
   "source": [
    "ds = vcm.open_tiles(url +\"/atmos_dt_atmos\").load()\n",
    "# ds.to_zarr(\"local.zarr\")\n",
    "#ds = xr.open_zarr(\"local.zarr/\")"
   ]
  },
  {
   "cell_type": "code",
   "execution_count": null,
   "metadata": {},
   "outputs": [],
   "source": [
    "vcm.plot_cube(vcm.mappable_var(ds.isel(time=0), 'PWAT'))"
   ]
  },
  {
   "cell_type": "code",
   "execution_count": null,
   "metadata": {},
   "outputs": [],
   "source": [
    "vcm.plot_cube(vcm.mappable_var(ds.isel(time=-1), 'PWAT'))"
   ]
  },
  {
   "cell_type": "markdown",
   "metadata": {},
   "source": [
    "# RMS Diagnostics"
   ]
  },
  {
   "cell_type": "code",
   "execution_count": null,
   "metadata": {},
   "outputs": [],
   "source": [
    "resampled = ds.resample(time='3H', label='right').mean()"
   ]
  },
  {
   "cell_type": "code",
   "execution_count": null,
   "metadata": {},
   "outputs": [],
   "source": [
    "verification = catalog['40day_c384_atmos_8xdaily'].to_dask()\n",
    "\n",
    "# open grid spec\n",
    "verification = verification.merge(grid_c384)\n",
    "\n",
    "# block average data\n",
    "verification_c48 = vcm.cubedsphere.weighted_block_average(verification, verification.area, 8, x_dim=\"grid_xt\", y_dim=\"grid_yt\")\n",
    "\n",
    "# subselect\n",
    "verification_c48 = verification_c48.sel(time=resampled.time[:-1]) # don't use last time point. there is some trouble"
   ]
  },
  {
   "cell_type": "code",
   "execution_count": null,
   "metadata": {},
   "outputs": [],
   "source": [
    "def rms(x, y, w, dims):\n",
    "    return np.sqrt(((x-y)**2 * w).sum(dims) / w.sum(dims))"
   ]
  },
  {
   "cell_type": "code",
   "execution_count": null,
   "metadata": {},
   "outputs": [],
   "source": [
    "rms_pwat = rms(resampled, verification_c48, resampled.area, dims=['grid_xt', 'grid_yt', 'tile'])"
   ]
  },
  {
   "cell_type": "code",
   "execution_count": null,
   "metadata": {},
   "outputs": [],
   "source": [
    "rms_pwat.PWAT.plot()"
   ]
  },
  {
   "cell_type": "code",
   "execution_count": null,
   "metadata": {},
   "outputs": [],
   "source": [
    "rms_pwat.VORT850.plot()"
   ]
  },
  {
   "cell_type": "markdown",
   "metadata": {},
   "source": [
    "# Comparison maps of PWAT"
   ]
  },
  {
   "cell_type": "code",
   "execution_count": null,
   "metadata": {},
   "outputs": [],
   "source": [
    "common_vars = list(set(resampled) & set(verification_c48))\n",
    "\n",
    "merged = xr.concat([resampled[common_vars], verification_c48[common_vars]], dim=pd.Index(['progrun', 'truth'], name='run'))\n",
    "merged = merged.merge(resampled[vcm.cubedsphere.constants.GRID_VARS], compat='override')"
   ]
  },
  {
   "cell_type": "code",
   "execution_count": null,
   "metadata": {},
   "outputs": [],
   "source": [
    "fig = vcm.plot_cube(vcm.mappable_var(merged.isel(time=-2), 'PWAT'), col='run')[0]\n",
    "fig.suptitle(f\"Time = {merged.time[-2].item()}\")\n",
    "fig.set_figwidth(12)"
   ]
  }
 ],
 "metadata": {
  "kernelspec": {
   "display_name": "fv3net",
   "language": "python",
   "name": "fv3net"
  },
  "language_info": {
   "codemirror_mode": {
    "name": "ipython",
    "version": 3
   },
   "file_extension": ".py",
   "mimetype": "text/x-python",
   "name": "python",
   "nbconvert_exporter": "python",
   "pygments_lexer": "ipython3",
   "version": "3.7.6"
  }
 },
 "nbformat": 4,
 "nbformat_minor": 4
}
