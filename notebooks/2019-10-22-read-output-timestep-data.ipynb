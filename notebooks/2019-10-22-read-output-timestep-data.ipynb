{
 "cells": [
  {
   "cell_type": "code",
   "execution_count": 9,
   "metadata": {},
   "outputs": [],
   "source": [
    "import xarray as xr\n",
    "from glob import glob\n",
    "from matplotlib import pyplot as plt"
   ]
  },
  {
   "cell_type": "code",
   "execution_count": 2,
   "metadata": {},
   "outputs": [],
   "source": [
    "run_dir = '../data/restart/C48/20160805.170000/rundir/'\n",
    "restart_dir = 'RESTART/'\n",
    "\n",
    "file_list = glob(run_dir + restart_dir + '*.nc')"
   ]
  },
  {
   "cell_type": "code",
   "execution_count": 3,
   "metadata": {},
   "outputs": [
    {
     "name": "stdout",
     "output_type": "stream",
     "text": [
      "../data/restart/C48/20160805.170000/rundir/RESTART/sfc_data.tile3.nc\n",
      "../data/restart/C48/20160805.170000/rundir/RESTART/fv_tracer.res.tile2.nc\n",
      "../data/restart/C48/20160805.170000/rundir/RESTART/fv_core.res.nc\n",
      "../data/restart/C48/20160805.170000/rundir/RESTART/fv_core.res.tile1.nc\n",
      "../data/restart/C48/20160805.170000/rundir/RESTART/fv_srf_wnd.res.tile5.nc\n",
      "../data/restart/C48/20160805.170000/rundir/RESTART/fv_tracer.res.tile5.nc\n",
      "../data/restart/C48/20160805.170000/rundir/RESTART/fv_core.res.tile2.nc\n",
      "../data/restart/C48/20160805.170000/rundir/RESTART/fv_srf_wnd.res.tile6.nc\n",
      "../data/restart/C48/20160805.170000/rundir/RESTART/fv_srf_wnd.res.tile3.nc\n",
      "../data/restart/C48/20160805.170000/rundir/RESTART/fv_srf_wnd.res.tile4.nc\n",
      "../data/restart/C48/20160805.170000/rundir/RESTART/fv_core.res.tile5.nc\n",
      "../data/restart/C48/20160805.170000/rundir/RESTART/fv_srf_wnd.res.tile2.nc\n",
      "../data/restart/C48/20160805.170000/rundir/RESTART/fv_core.res.tile6.nc\n",
      "../data/restart/C48/20160805.170000/rundir/RESTART/phy_data.tile4.nc\n",
      "../data/restart/C48/20160805.170000/rundir/RESTART/phy_data.tile5.nc\n",
      "../data/restart/C48/20160805.170000/rundir/RESTART/fv_core.res.tile3.nc\n",
      "../data/restart/C48/20160805.170000/rundir/RESTART/fv_tracer.res.tile1.nc\n",
      "../data/restart/C48/20160805.170000/rundir/RESTART/phy_data.tile2.nc\n",
      "../data/restart/C48/20160805.170000/rundir/RESTART/sfc_data.tile1.nc\n",
      "../data/restart/C48/20160805.170000/rundir/RESTART/fv_tracer.res.tile6.nc\n",
      "../data/restart/C48/20160805.170000/rundir/RESTART/sfc_data.tile4.nc\n",
      "../data/restart/C48/20160805.170000/rundir/RESTART/fv_srf_wnd.res.tile1.nc\n",
      "../data/restart/C48/20160805.170000/rundir/RESTART/sfc_data.tile5.nc\n",
      "../data/restart/C48/20160805.170000/rundir/RESTART/sfc_data.tile2.nc\n",
      "../data/restart/C48/20160805.170000/rundir/RESTART/fv_core.res.tile4.nc\n",
      "../data/restart/C48/20160805.170000/rundir/RESTART/fv_tracer.res.tile4.nc\n",
      "../data/restart/C48/20160805.170000/rundir/RESTART/phy_data.tile6.nc\n",
      "../data/restart/C48/20160805.170000/rundir/RESTART/phy_data.tile3.nc\n",
      "../data/restart/C48/20160805.170000/rundir/RESTART/sfc_data.tile6.nc\n",
      "../data/restart/C48/20160805.170000/rundir/RESTART/fv_tracer.res.tile3.nc\n",
      "../data/restart/C48/20160805.170000/rundir/RESTART/phy_data.tile1.nc\n"
     ]
    }
   ],
   "source": [
    "for file in file_list:\n",
    "    print(file)"
   ]
  },
  {
   "cell_type": "code",
   "execution_count": 4,
   "metadata": {},
   "outputs": [],
   "source": [
    "ds = xr.open_dataset(file_list[0])"
   ]
  },
  {
   "cell_type": "code",
   "execution_count": 15,
   "metadata": {},
   "outputs": [
    {
     "data": {
      "text/plain": [
       "<xarray.DataArray 'slmsk' (Time: 1, yaxis_1: 48, xaxis_1: 48)>\n",
       "array([[[0., 1., ..., 0., 0.],\n",
       "        [1., 1., ..., 0., 1.],\n",
       "        ...,\n",
       "        [0., 0., ..., 0., 0.],\n",
       "        [0., 0., ..., 0., 0.]]])\n",
       "Coordinates:\n",
       "  * xaxis_1  (xaxis_1) float64 1.0 2.0 3.0 4.0 5.0 ... 44.0 45.0 46.0 47.0 48.0\n",
       "  * yaxis_1  (yaxis_1) float64 1.0 2.0 3.0 4.0 5.0 ... 44.0 45.0 46.0 47.0 48.0\n",
       "  * Time     (Time) float64 1.0\n",
       "Attributes:\n",
       "    long_name:  slmsk\n",
       "    units:      none\n",
       "    checksum:   C360000000000000"
      ]
     },
     "execution_count": 15,
     "metadata": {},
     "output_type": "execute_result"
    }
   ],
   "source": [
    "ds.slmsk"
   ]
  },
  {
   "cell_type": "code",
   "execution_count": 16,
   "metadata": {},
   "outputs": [
    {
     "data": {
      "text/plain": [
       "<matplotlib.collections.QuadMesh at 0x7f1e28cacf28>"
      ]
     },
     "execution_count": 16,
     "metadata": {},
     "output_type": "execute_result"
    },
    {
     "data": {
      "image/png": "[encoded data removed]",
      "text/plain": [
       "<Figure size 432x288 with 2 Axes>"
      ]
     },
     "metadata": {
      "needs_background": "light"
     },
     "output_type": "display_data"
    }
   ],
   "source": [
    "fig = plt.figure()\n",
    "ds['slmsk'].sel(Time=1).plot()"
   ]
  },
  {
   "cell_type": "code",
   "execution_count": 21,
   "metadata": {},
   "outputs": [
    {
     "name": "stderr",
     "output_type": "stream",
     "text": [
      "/home/brianh/miniconda3/envs/fv3net/lib/python3.7/site-packages/xarray/backends/api.py:783: FutureWarning: In xarray version 0.13 `auto_combine` will be deprecated.\n",
      "  coords=coords)\n",
      "/home/brianh/miniconda3/envs/fv3net/lib/python3.7/site-packages/xarray/backends/api.py:783: FutureWarning: Also `open_mfdataset` will no longer accept a `concat_dim` argument.\n",
      "To get equivalent behaviour from now on please use the new\n",
      "`combine_nested` function instead (or the `combine='nested'` option to\n",
      "`open_mfdataset`).The datasets supplied do not have global dimension coordinates. In\n",
      "future, to continue concatenating without supplying dimension\n",
      "coordinates, please use the new `combine_nested` function (or the\n",
      "`combine='nested'` option to open_mfdataset.\n",
      "  coords=coords)\n"
     ]
    }
   ],
   "source": [
    "# from src.data.cubedsphere import open_cubed_sphere\n",
    "# timestep = \n",
    "sfc_data = xr.open_mfdataset('../data/restart/C48/20160805.170000/rundir/RESTART/sfc_data*.nc', concat_dim='tile')"
   ]
  },
  {
   "cell_type": "code",
   "execution_count": 29,
   "metadata": {},
   "outputs": [
    {
     "data": {
      "text/plain": [
       "Frozen(SortedKeysDict({'xaxis_1': 48, 'yaxis_1': 48, 'zaxis_1': 4, 'Time': 1, 'tile': 6}))"
      ]
     },
     "execution_count": 29,
     "metadata": {},
     "output_type": "execute_result"
    }
   ],
   "source": [
    "sfc_data.dims"
   ]
  },
  {
   "cell_type": "code",
   "execution_count": 23,
   "metadata": {},
   "outputs": [],
   "source": [
    "ds = xr.open_dataset('../data/restart/C48/20160805.170000/rundir/RESTART/fv_core.res.nc')"
   ]
  },
  {
   "cell_type": "code",
   "execution_count": 27,
   "metadata": {},
   "outputs": [
    {
     "data": {
      "text/plain": [
       "<xarray.DataArray 'bk' (Time: 1, xaxis_1: 80)>\n",
       "array([[0.      , 0.      , 0.      , 0.      , 0.      , 0.      , 0.      ,\n",
       "        0.      , 0.      , 0.      , 0.      , 0.      , 0.      , 0.      ,\n",
       "        0.      , 0.      , 0.      , 0.      , 0.      , 0.001066, 0.004129,\n",
       "        0.009007, 0.015543, 0.023599, 0.033055, 0.043801, 0.055741, 0.068786,\n",
       "        0.082853, 0.09787 , 0.113764, 0.130471, 0.147927, 0.166075, 0.184856,\n",
       "        0.204217, 0.224105, 0.244472, 0.265267, 0.286445, 0.30796 , 0.32977 ,\n",
       "        0.351832, 0.374106, 0.396553, 0.419136, 0.441819, 0.464568, 0.48735 ,\n",
       "        0.510134, 0.53289 , 0.555589, 0.578207, 0.600716, 0.623094, 0.645294,\n",
       "        0.667268, 0.688965, 0.710333, 0.731323, 0.751884, 0.771965, 0.791517,\n",
       "        0.810491, 0.828839, 0.846513, 0.863468, 0.879658, 0.895042, 0.909578,\n",
       "        0.923226, 0.935951, 0.947716, 0.958489, 0.968241, 0.976945, 0.984575,\n",
       "        0.991113, 0.996537, 1.      ]])\n",
       "Coordinates:\n",
       "  * xaxis_1  (xaxis_1) float64 1.0 2.0 3.0 4.0 5.0 ... 76.0 77.0 78.0 79.0 80.0\n",
       "  * Time     (Time) float64 1.0\n",
       "Attributes:\n",
       "    long_name:  bk\n",
       "    units:      none\n",
       "    checksum:   3548620420000000"
      ]
     },
     "execution_count": 27,
     "metadata": {},
     "output_type": "execute_result"
    }
   ],
   "source": [
    "ds['bk']"
   ]
  },
  {
   "cell_type": "code",
   "execution_count": 129,
   "metadata": {},
   "outputs": [
    {
     "data": {
      "text/plain": [
       "<xarray.Dataset>\n",
       "Dimensions:        (ncontact: 12, ntiles: 6)\n",
       "Dimensions without coordinates: ncontact, ntiles\n",
       "Data variables:\n",
       "    mosaic         |S255 ...\n",
       "    gridlocation   |S255 ...\n",
       "    gridfiles      (ntiles) |S255 ...\n",
       "    gridtiles      (ntiles) |S255 ...\n",
       "    contacts       (ncontact) |S255 ...\n",
       "    contact_index  (ncontact) |S255 ...\n",
       "Attributes:\n",
       "    grid_version:  0.2\n",
       "    code_version:  $Name: fre-nctools-bronx-10 $\n",
       "    history:       /lustre/f1/unswept/Shannon.Rees/fv3_gfs_preproc/MAKE_IC/SC..."
      ]
     },
     "execution_count": 129,
     "metadata": {},
     "output_type": "execute_result"
    }
   ],
   "source": [
    "gs = xr.open_dataset('../data/raw/coarse-grid-and-orography-data/C48/grid_spec.nc')\n",
    "gs"
   ]
  },
  {
   "cell_type": "code",
   "execution_count": 144,
   "metadata": {},
   "outputs": [],
   "source": [
    "gs1 = xr.open_dataset('../data/raw/coarse-grid-and-orography-data/C48/C48_grid.tile6.nc')"
   ]
  },
  {
   "cell_type": "code",
   "execution_count": 145,
   "metadata": {},
   "outputs": [
    {
     "data": {
      "text/plain": [
       "<xarray.DataArray 'x' (nyp: 97, nxp: 97)>\n",
       "array([[215.      , 214.217217, 213.427307, ..., 126.572693, 125.782783,\n",
       "        125.      ],\n",
       "       [215.782783, 215.      , 214.209751, ..., 125.790249, 125.      ,\n",
       "        124.217217],\n",
       "       [216.572693, 215.790249, 215.      , ..., 125.      , 124.209751,\n",
       "        123.427307],\n",
       "       ...,\n",
       "       [303.427307, 304.209751, 305.      , ...,  35.      ,  35.790249,\n",
       "         36.572693],\n",
       "       [304.217217, 305.      , 305.790249, ...,  34.209751,  35.      ,\n",
       "         35.782783],\n",
       "       [305.      , 305.782783, 306.572693, ...,  33.427307,  34.217217,\n",
       "         35.      ]])\n",
       "Dimensions without coordinates: nyp, nxp\n",
       "Attributes:\n",
       "    standard_name:  geographic_longitude\n",
       "    units:          degree_east"
      ]
     },
     "execution_count": 145,
     "metadata": {},
     "output_type": "execute_result"
    }
   ],
   "source": [
    "gs1.x"
   ]
  },
  {
   "cell_type": "code",
   "execution_count": 138,
   "metadata": {},
   "outputs": [
    {
     "name": "stderr",
     "output_type": "stream",
     "text": [
      "/home/brianh/miniconda3/envs/fv3net/lib/python3.7/site-packages/xarray/backends/api.py:783: FutureWarning: In xarray version 0.13 `auto_combine` will be deprecated.\n",
      "  coords=coords)\n",
      "/home/brianh/miniconda3/envs/fv3net/lib/python3.7/site-packages/xarray/backends/api.py:783: FutureWarning: Also `open_mfdataset` will no longer accept a `concat_dim` argument.\n",
      "To get equivalent behaviour from now on please use the new\n",
      "`combine_nested` function instead (or the `combine='nested'` option to\n",
      "`open_mfdataset`).The datasets supplied do not have global dimension coordinates. In\n",
      "future, to continue concatenating without supplying dimension\n",
      "coordinates, please use the new `combine_nested` function (or the\n",
      "`combine='nested'` option to open_mfdataset.\n",
      "  coords=coords)\n"
     ]
    }
   ],
   "source": [
    "grid = xr.open_mfdataset('../data/raw/coarse-grid-and-orography-data/C48/C48_grid.tile*.nc', concat_dim = 'tile')"
   ]
  },
  {
   "cell_type": "code",
   "execution_count": 139,
   "metadata": {},
   "outputs": [
    {
     "data": {
      "text/plain": [
       "<xarray.Dataset>\n",
       "Dimensions:   (nx: 96, nxp: 97, ny: 96, nyp: 97, tile: 6)\n",
       "Coordinates:\n",
       "  * tile      (tile) |S255 b'tile1' b'tile2' b'tile3' b'tile4' b'tile5' b'tile6'\n",
       "Dimensions without coordinates: nx, nxp, ny, nyp\n",
       "Data variables:\n",
       "    x         (tile, nyp, nxp) float64 dask.array<shape=(6, 97, 97), chunksize=(1, 97, 97)>\n",
       "    y         (tile, nyp, nxp) float64 dask.array<shape=(6, 97, 97), chunksize=(1, 97, 97)>\n",
       "    dx        (tile, nyp, nx) float64 dask.array<shape=(6, 97, 96), chunksize=(1, 97, 96)>\n",
       "    dy        (tile, ny, nxp) float64 dask.array<shape=(6, 96, 97), chunksize=(1, 96, 97)>\n",
       "    area      (tile, ny, nx) float64 dask.array<shape=(6, 96, 96), chunksize=(1, 96, 96)>\n",
       "    angle_dx  (tile, nyp, nxp) float64 dask.array<shape=(6, 97, 97), chunksize=(1, 97, 97)>\n",
       "    angle_dy  (tile, nyp, nxp) float64 dask.array<shape=(6, 97, 97), chunksize=(1, 97, 97)>\n",
       "    arcx      (tile) |S255 b'small_circle' b'small_circle' ... b'small_circle'\n",
       "Attributes:\n",
       "    grid_version:  0.2\n",
       "    code_version:  $Name: fre-nctools-bronx-10 $\n",
       "    history:       /lustre/f1/unswept/Shannon.Rees/fv3_gfs_preproc/MAKE_IC/SC..."
      ]
     },
     "execution_count": 139,
     "metadata": {},
     "output_type": "execute_result"
    }
   ],
   "source": [
    "grid"
   ]
  },
  {
   "cell_type": "code",
   "execution_count": 95,
   "metadata": {},
   "outputs": [
    {
     "data": {
      "text/plain": [
       "<xarray.DataArray 'orog_raw' (lat: 48, lon: 48)>\n",
       "array([[3.567742e-02, 0.000000e+00, 0.000000e+00, ..., 0.000000e+00,\n",
       "        0.000000e+00, 0.000000e+00],\n",
       "       [8.153220e+01, 4.937246e-02, 0.000000e+00, ..., 0.000000e+00,\n",
       "        0.000000e+00, 0.000000e+00],\n",
       "       [1.445049e+02, 2.198566e-01, 0.000000e+00, ..., 0.000000e+00,\n",
       "        0.000000e+00, 0.000000e+00],\n",
       "       ...,\n",
       "       [0.000000e+00, 0.000000e+00, 0.000000e+00, ..., 0.000000e+00,\n",
       "        0.000000e+00, 1.958062e-01],\n",
       "       [0.000000e+00, 0.000000e+00, 0.000000e+00, ..., 0.000000e+00,\n",
       "        5.568882e-02, 5.087932e-02],\n",
       "       [0.000000e+00, 0.000000e+00, 0.000000e+00, ..., 3.764859e-01,\n",
       "        9.566978e-01, 4.965884e-01]], dtype=float32)\n",
       "Coordinates:\n",
       "  * lon      (lon) float32 305.7829 307.3699 308.98584 ... 32.630085 34.217087\n",
       "  * lat      (lat) float32 -34.891106 -33.414417 ... 33.414417 34.891106"
      ]
     },
     "execution_count": 95,
     "metadata": {},
     "output_type": "execute_result"
    },
    {
     "data": {
      "text/plain": [
       "<Figure size 432x288 with 0 Axes>"
      ]
     },
     "metadata": {},
     "output_type": "display_data"
    }
   ],
   "source": [
    "oro1 = xr.open_dataset('../data/raw/coarse-grid-and-orography-data/C48/oro_data.tile1.nc')\n",
    "fig = plt.figure()\n",
    "oro1.orog_raw"
   ]
  },
  {
   "cell_type": "code",
   "execution_count": 93,
   "metadata": {},
   "outputs": [
    {
     "data": {
      "text/plain": [
       "array([[1.9976081e+00, 0.0000000e+00, 0.0000000e+00, ..., 0.0000000e+00,\n",
       "        0.0000000e+00, 0.0000000e+00],\n",
       "       [8.1747414e+01, 7.4337173e-01, 0.0000000e+00, ..., 0.0000000e+00,\n",
       "        0.0000000e+00, 0.0000000e+00],\n",
       "       [1.3611337e+02, 8.7778740e+00, 0.0000000e+00, ..., 0.0000000e+00,\n",
       "        0.0000000e+00, 0.0000000e+00],\n",
       "       ...,\n",
       "       [0.0000000e+00, 0.0000000e+00, 0.0000000e+00, ..., 0.0000000e+00,\n",
       "        0.0000000e+00, 1.9193947e+01],\n",
       "       [0.0000000e+00, 0.0000000e+00, 0.0000000e+00, ..., 0.0000000e+00,\n",
       "        5.7786480e-02, 1.3185623e+00],\n",
       "       [0.0000000e+00, 0.0000000e+00, 0.0000000e+00, ..., 4.5652172e+01,\n",
       "        2.6952898e+01, 1.8285444e+01]], dtype=float32)"
      ]
     },
     "execution_count": 93,
     "metadata": {},
     "output_type": "execute_result"
    }
   ],
   "source": [
    "oro1.orog_filt.values"
   ]
  },
  {
   "cell_type": "code",
   "execution_count": 126,
   "metadata": {},
   "outputs": [
    {
     "name": "stdout",
     "output_type": "stream",
     "text": [
      "2019-10-16-C3072-grid-spec/grid_spec.tile1.nc\n",
      "downloaded blob 1.\n",
      "2019-10-16-C3072-grid-spec/grid_spec.tile2.nc\n",
      "downloaded blob 2.\n",
      "2019-10-16-C3072-grid-spec/grid_spec.tile3.nc\n",
      "downloaded blob 3.\n",
      "2019-10-16-C3072-grid-spec/grid_spec.tile4.nc\n",
      "downloaded blob 4.\n",
      "2019-10-16-C3072-grid-spec/grid_spec.tile5.nc\n",
      "downloaded blob 5.\n",
      "2019-10-16-C3072-grid-spec/grid_spec.tile6.nc\n",
      "downloaded blob 6.\n"
     ]
    },
    {
     "name": "stderr",
     "output_type": "stream",
     "text": [
      "/home/brianh/miniconda3/envs/fv3net/lib/python3.7/site-packages/xarray/backends/api.py:783: FutureWarning: In xarray version 0.13 `auto_combine` will be deprecated.\n",
      "  coords=coords)\n",
      "/home/brianh/miniconda3/envs/fv3net/lib/python3.7/site-packages/pandas/core/indexes/base.py:111: FutureWarning: elementwise comparison failed; returning scalar instead, but in the future will perform elementwise comparison\n",
      "  result = op(self.values, np.asarray(other))\n",
      "/home/brianh/miniconda3/envs/fv3net/lib/python3.7/site-packages/xarray/backends/api.py:783: FutureWarning: Also `open_mfdataset` will no longer accept a `concat_dim` argument.\n",
      "To get equivalent behaviour from now on please use the new\n",
      "`combine_nested` function instead (or the `combine='nested'` option to\n",
      "`open_mfdataset`).The datasets supplied do not have global dimension coordinates. In\n",
      "future, to continue concatenating without supplying dimension\n",
      "coordinates, please use the new `combine_nested` function (or the\n",
      "`combine='nested'` option to open_mfdataset.\n",
      "  coords=coords)\n"
     ]
    }
   ],
   "source": [
    "import pandas as pd\n",
    "from os.path import join\n",
    "# Imports the Google Cloud client library\n",
    "from google.cloud import storage\n",
    "\n",
    "tiles = [1, 2, 3, 4, 5, 6]\n",
    "bucket_name = 'vcm-ml-data'\n",
    "def download_blob(bucket_name, source_blob_name, destination_file_name):\n",
    "    \"\"\"Downloads a blob from the bucket.\"\"\"\n",
    "    storage_client = storage.Client()\n",
    "    bucket = storage.Bucket(storage_client, bucket_name)\n",
    "    blob = storage.Blob(source_blob_name, bucket)\n",
    "#     blob = bucket.blob(source_blob_name)\n",
    "    blob.download_to_filename(destination_file_name)\n",
    "    \n",
    "for tile in tiles:\n",
    "    source_blob_name = f\"2019-10-16-C3072-grid-spec/grid_spec.tile{tile}.nc\"\n",
    "    print(source_blob_name)\n",
    "    destination_file_name = join('../data/tmp/', source_blob_name)\n",
    "    download_blob(bucket_name, source_blob_name, destination_file_name)\n",
    "    print(f\"downloaded blob {tile}.\")\n",
    "\n",
    "\n",
    "\n",
    "TILES = range(1,7)\n",
    "tile = pd.Index(TILES, name='tile')\n",
    "gridc3072 = xr.open_mfdataset('../data/tmp/2019-10-16-C3072-grid-spec/*.nc', concat_dim=tile)"
   ]
  },
  {
   "cell_type": "code",
   "execution_count": 127,
   "metadata": {},
   "outputs": [],
   "source": [
    "TILES = range(1,7)\n",
    "tile = pd.Index(TILES, name='tile')\n",
    "gridc3072 = xr.open_mfdataset('../data/tmp/2019-10-16-C3072-grid-spec/*.nc', concat_dim=tile)"
   ]
  },
  {
   "cell_type": "code",
   "execution_count": 128,
   "metadata": {},
   "outputs": [
    {
     "data": {
      "text/plain": [
       "<xarray.Dataset>\n",
       "Dimensions:    (grid_x: 3073, grid_xt: 3072, grid_y: 3073, grid_yt: 3072, tile: 6)\n",
       "Coordinates:\n",
       "  * grid_x     (grid_x) float64 1.0 2.0 3.0 ... 3.071e+03 3.072e+03 3.073e+03\n",
       "  * grid_y     (grid_y) float64 1.0 2.0 3.0 ... 3.071e+03 3.072e+03 3.073e+03\n",
       "  * grid_xt    (grid_xt) float64 1.0 2.0 3.0 ... 3.07e+03 3.071e+03 3.072e+03\n",
       "  * grid_yt    (grid_yt) float64 1.0 2.0 3.0 ... 3.07e+03 3.071e+03 3.072e+03\n",
       "  * tile       (tile) int64 1 2 3 4 5 6\n",
       "Data variables:\n",
       "    grid_lon   (tile, grid_y, grid_x) float32 dask.array<shape=(6, 3073, 3073), chunksize=(1, 3073, 3073)>\n",
       "    grid_lat   (tile, grid_y, grid_x) float32 dask.array<shape=(6, 3073, 3073), chunksize=(1, 3073, 3073)>\n",
       "    grid_lont  (tile, grid_yt, grid_xt) float32 dask.array<shape=(6, 3072, 3072), chunksize=(1, 3072, 3072)>\n",
       "    grid_latt  (tile, grid_yt, grid_xt) float32 dask.array<shape=(6, 3072, 3072), chunksize=(1, 3072, 3072)>\n",
       "    area       (tile, grid_yt, grid_xt) float32 dask.array<shape=(6, 3072, 3072), chunksize=(1, 3072, 3072)>\n",
       "    dx         (tile, grid_y, grid_xt) float32 dask.array<shape=(6, 3073, 3072), chunksize=(1, 3073, 3072)>\n",
       "    dy         (tile, grid_yt, grid_x) float32 dask.array<shape=(6, 3072, 3073), chunksize=(1, 3072, 3073)>"
      ]
     },
     "execution_count": 128,
     "metadata": {},
     "output_type": "execute_result"
    }
   ],
   "source": [
    "gridc3072"
   ]
  },
  {
   "cell_type": "code",
   "execution_count": null,
   "metadata": {},
   "outputs": [],
   "source": []
  }
 ],
 "metadata": {
  "kernelspec": {
   "display_name": "Python [conda env:fv3net] *",
   "language": "python",
   "name": "conda-env-fv3net-py"
  },
  "language_info": {
   "codemirror_mode": {
    "name": "ipython",
    "version": 3
   },
   "file_extension": ".py",
   "mimetype": "text/x-python",
   "name": "python",
   "nbconvert_exporter": "python",
   "pygments_lexer": "ipython3",
   "version": "3.7.3"
  }
 },
 "nbformat": 4,
 "nbformat_minor": 4
}
