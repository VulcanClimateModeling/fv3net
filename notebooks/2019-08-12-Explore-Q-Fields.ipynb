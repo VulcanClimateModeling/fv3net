{
 "cells": [
  {
   "cell_type": "code",
   "execution_count": null,
   "metadata": {},
   "outputs": [],
   "source": [
    "%load_ext autoreload\n",
    "%autoreload 2"
   ]
  },
  {
   "cell_type": "code",
   "execution_count": null,
   "metadata": {},
   "outputs": [],
   "source": [
    "import xarray as xr\n",
    "import matplotlib.pyplot as plt\n",
    "from src.data import *\n",
    "from src.data.advect import *\n",
    "from src.data.regrid import regrid_horizontal\n",
    "from src.visualization.visualize import *"
   ]
  },
  {
   "cell_type": "code",
   "execution_count": null,
   "metadata": {},
   "outputs": [],
   "source": [
    "import holoviews as hv\n",
    "hv.extension('bokeh')"
   ]
  },
  {
   "cell_type": "markdown",
   "metadata": {},
   "source": [
    "## Compute Q terms for 25km and 100km grids"
   ]
  },
  {
   "cell_type": "code",
   "execution_count": null,
   "metadata": {},
   "outputs": [],
   "source": [
    "ds_25 = open_data()"
   ]
  },
  {
   "cell_type": "code",
   "execution_count": null,
   "metadata": {},
   "outputs": [],
   "source": [
    "!ls /home/rasp/data/"
   ]
  },
  {
   "cell_type": "code",
   "execution_count": null,
   "metadata": {},
   "outputs": [],
   "source": [
    "ddeg_25 = ds_25.grid_xt.diff('grid_xt')[0].values; \n",
    "ddeg_100 = 4 * ddeg_25\n",
    "ddeg_25, ddeg_100"
   ]
  },
  {
   "cell_type": "code",
   "execution_count": null,
   "metadata": {},
   "outputs": [],
   "source": [
    "# ds_100 = regrid_horizontal(ds_25.transpose('time', 'pfull', 'grid_yt', 'grid_xt', 'bnds'), ddeg_100)"
   ]
  },
  {
   "cell_type": "code",
   "execution_count": null,
   "metadata": {},
   "outputs": [],
   "source": [
    "# ds_100.to_zarr('/home/rasp/data/data_3d_100km.zarr')"
   ]
  },
  {
   "cell_type": "code",
   "execution_count": null,
   "metadata": {},
   "outputs": [],
   "source": [
    "ds_100 = xr.open_zarr('/home/rasp/data/data_3d_100km.zarr')"
   ]
  },
  {
   "cell_type": "code",
   "execution_count": null,
   "metadata": {},
   "outputs": [],
   "source": [
    "q1 = apparent_heating(ds_25.temp, ds_25.z, ds_25.w, ds_25.dtemp).rename(\"apparent_heating\").assign_attrs(units=\"K/s\")\n",
    "q2 = apparent_source(ds_25.qv, ds_25.z, ds_25.dqv).rename(\"apparent_moistening\").assign_attrs(units=\"kg/kg/s\")\n",
    "\n",
    "q_25 = xr.Dataset({'q1': q1, 'q2': q2})"
   ]
  },
  {
   "cell_type": "code",
   "execution_count": null,
   "metadata": {},
   "outputs": [],
   "source": [
    "q_25 = q_25.rename({'grid_xt': 'lon', 'grid_yt': 'lat'})"
   ]
  },
  {
   "cell_type": "code",
   "execution_count": null,
   "metadata": {},
   "outputs": [],
   "source": [
    "ds_25 = ds_25.rename({'grid_xt': 'lon', 'grid_yt': 'lat'})"
   ]
  },
  {
   "cell_type": "code",
   "execution_count": null,
   "metadata": {},
   "outputs": [],
   "source": [
    "q1 = apparent_heating(ds_100.temp, ds_100.z, ds_100.w, ds_100.dtemp).rename(\"apparent_heating\").assign_attrs(units=\"K/s\")\n",
    "q2 = apparent_source(ds_100.qv, ds_100.z, ds_100.dqv).rename(\"apparent_moistening\").assign_attrs(units=\"kg/kg/s\")\n",
    "\n",
    "q_100 = xr.Dataset({'q1': q1, 'q2': q2})"
   ]
  },
  {
   "cell_type": "markdown",
   "metadata": {},
   "source": [
    "## Compare"
   ]
  },
  {
   "cell_type": "code",
   "execution_count": null,
   "metadata": {},
   "outputs": [],
   "source": [
    "i1 = make_image(q_25.q1.isel(time=0, lon=0), width=700, cmap_range=(-2e-3, 2e-3), \n",
    "                colorbar=True, cmap=plt.cm.RdBu_r, coords=['lat', 'pfull'], quad=True, invert_yaxis=True)\n",
    "i2 = make_image(q_100.q1.isel(time=0, lon=0), width=700, cmap_range=(-2e-3, 2e-3), \n",
    "                colorbar=True, cmap=plt.cm.RdBu_r, coords=['lat', 'pfull'], quad=True, invert_yaxis=True)\n",
    "i1+i2"
   ]
  },
  {
   "cell_type": "code",
   "execution_count": null,
   "metadata": {},
   "outputs": [],
   "source": [
    "i1 = make_image(q_25.q1.isel(time=1, pfull=-20), width=700, cmap_range=(-2e-3, 2e-3), \n",
    "                colorbar=True, cmap=plt.cm.RdBu_r, aspect='equal')\n",
    "i2 = make_image(q_100.q1.isel(time=1, pfull=-20), width=700, cmap_range=(-2e-3, 2e-3), \n",
    "                colorbar=True, cmap=plt.cm.RdBu_r, aspect='equal')\n",
    "i1+i2"
   ]
  },
  {
   "cell_type": "code",
   "execution_count": null,
   "metadata": {},
   "outputs": [],
   "source": [
    "make_image(ds_25.ql.isel(time=0, lon=0), width=700, cmap_range=(-5e-4, 5e-4), \n",
    "                colorbar=True, cmap=plt.cm.RdBu_r, coords=['lat', 'pfull'], quad=True, invert_yaxis=True)"
   ]
  },
  {
   "cell_type": "code",
   "execution_count": null,
   "metadata": {},
   "outputs": [],
   "source": [
    "i1 = make_image(q_25.q2.isel(time=0, lon=0), width=700, cmap_range=(-6e-7, 6e-7), \n",
    "                colorbar=True, cmap=plt.cm.RdBu_r, coords=['lat', 'pfull'], quad=True, invert_yaxis=True)\n",
    "i2 = make_image(q_100.q2.isel(time=0, lon=0), width=700, cmap_range=(-6e-7, 6e-7), \n",
    "                colorbar=True, cmap=plt.cm.RdBu_r, coords=['lat', 'pfull'], quad=True, invert_yaxis=True)\n",
    "i1+i2"
   ]
  },
  {
   "cell_type": "code",
   "execution_count": null,
   "metadata": {},
   "outputs": [],
   "source": [
    "i1 = make_image(q_25.q2.isel(time=1, pfull=-20), width=700, cmap_range=(-6e-7, 6e-7), \n",
    "                colorbar=True, cmap=plt.cm.RdBu_r, aspect='equal')\n",
    "i2 = make_image(q_100.q2.isel(time=1, pfull=-20), width=700, cmap_range=(-6e-7, 6e-7), \n",
    "                colorbar=True, cmap=plt.cm.RdBu_r, aspect='equal')\n",
    "i1+i2"
   ]
  },
  {
   "cell_type": "code",
   "execution_count": null,
   "metadata": {},
   "outputs": [],
   "source": [
    "i1"
   ]
  },
  {
   "cell_type": "code",
   "execution_count": null,
   "metadata": {},
   "outputs": [],
   "source": [
    "\n",
    "\n",
    "\n",
    "\n",
    "\n",
    "\n",
    "\n",
    "\n",
    "\n",
    "\n",
    "\n",
    "\n",
    "\n",
    "\n",
    "\n",
    "\n",
    "\n"
   ]
  }
 ],
 "metadata": {
  "kernelspec": {
   "display_name": "Python 3",
   "language": "python",
   "name": "python3"
  },
  "language_info": {
   "codemirror_mode": {
    "name": "ipython",
    "version": 3
   },
   "file_extension": ".py",
   "mimetype": "text/x-python",
   "name": "python",
   "nbconvert_exporter": "python",
   "pygments_lexer": "ipython3",
   "version": "3.7.3"
  },
  "toc": {
   "base_numbering": 1,
   "nav_menu": {},
   "number_sections": true,
   "sideBar": false,
   "skip_h1_title": true,
   "title_cell": "Table of Contents",
   "title_sidebar": "Contents",
   "toc_cell": false,
   "toc_position": {},
   "toc_section_display": true,
   "toc_window_display": false
  }
 },
 "nbformat": 4,
 "nbformat_minor": 2
}
