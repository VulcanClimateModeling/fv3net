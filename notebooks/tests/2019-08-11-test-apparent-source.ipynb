{
 "cells": [
  {
   "cell_type": "markdown",
   "metadata": {},
   "source": [
    "In this notebook, I test the apparent source calculation."
   ]
  },
  {
   "cell_type": "code",
   "execution_count": 1,
   "metadata": {},
   "outputs": [
    {
     "name": "stdout",
     "output_type": "stream",
     "text": [
      "/home/noahb/fv3net\n"
     ]
    }
   ],
   "source": [
    "cd ../../"
   ]
  },
  {
   "cell_type": "code",
   "execution_count": 2,
   "metadata": {},
   "outputs": [],
   "source": [
    "import xarray as xr\n",
    "from src.data.advect import *\n",
    "from src.data import open_data\n",
    "import os\n",
    "\n",
    "data_3d = open_data()\n",
    "ds = data_3d.isel(time=slice(0,1), grid_xt=slice(0, 256)).persist()"
   ]
  },
  {
   "cell_type": "markdown",
   "metadata": {},
   "source": [
    "# Test advection\n",
    "\n",
    "v.grad(z) = w"
   ]
  },
  {
   "cell_type": "code",
   "execution_count": 4,
   "metadata": {},
   "outputs": [],
   "source": [
    "dz = advection_fixed_height(ds, 'z')\n",
    "\n",
    "ds['gradz'] = dz.persist()"
   ]
  },
  {
   "cell_type": "code",
   "execution_count": 5,
   "metadata": {},
   "outputs": [],
   "source": [
    "df  =ds[['gradz', 'w']].to_dataframe()\n",
    "df['gradz'] = - df.gradz"
   ]
  },
  {
   "cell_type": "code",
   "execution_count": 6,
   "metadata": {},
   "outputs": [
    {
     "data": {
      "text/plain": [
       "[<matplotlib.lines.Line2D at 0x7fa885d877b8>]"
      ]
     },
     "execution_count": 6,
     "metadata": {},
     "output_type": "execute_result"
    },
    {
     "data": {
      "image/png": "[encoded data removed]",
      "text/plain": [
       "<Figure size 432x288 with 1 Axes>"
      ]
     },
     "metadata": {
      "needs_background": "light"
     },
     "output_type": "display_data"
    }
   ],
   "source": [
    "df.sample(1000).plot(kind='scatter', x='w', y='gradz')\n",
    "xlim = [-.2, .2]\n",
    "plt.plot(xlim, xlim, c='k')"
   ]
  },
  {
   "cell_type": "markdown",
   "metadata": {},
   "source": [
    "# Test Storage\n",
    "\n",
    "should be zero "
   ]
  },
  {
   "cell_type": "code",
   "execution_count": 7,
   "metadata": {},
   "outputs": [],
   "source": [
    "ds = data_3d.isel(grid_xt=slice(0, 256)).persist()\n",
    "phi = np.log(ds.z/30000+1)\n",
    "storage = storage_fixed_height(phi, ds.z).dropna('time')"
   ]
  },
  {
   "cell_type": "code",
   "execution_count": 8,
   "metadata": {},
   "outputs": [
    {
     "data": {
      "text/plain": [
       "<xarray.DataArray 'z' ()>\n",
       "array(2.667967e-10, dtype=float32)"
      ]
     },
     "execution_count": 8,
     "metadata": {},
     "output_type": "execute_result"
    }
   ],
   "source": [
    "storage.std().compute()"
   ]
  },
  {
   "cell_type": "code",
   "execution_count": 9,
   "metadata": {},
   "outputs": [
    {
     "data": {
      "text/plain": [
       "<xarray.DataArray 'z' ()>\n",
       "array(-1.235006e-11, dtype=float32)"
      ]
     },
     "execution_count": 9,
     "metadata": {},
     "output_type": "execute_result"
    }
   ],
   "source": [
    "storage.mean().compute()"
   ]
  },
  {
   "cell_type": "markdown",
   "metadata": {},
   "source": [
    "This shows that the storage is nearly identically zero."
   ]
  },
  {
   "cell_type": "code",
   "execution_count": 10,
   "metadata": {},
   "outputs": [
    {
     "data": {
      "text/plain": [
       "<xarray.DataArray (time: 3, grid_yt: 768, grid_xt: 256, pfull: 79)>\n",
       "dask.array<shape=(3, 768, 256, 79), dtype=float64, chunksize=(1, 256, 256, 79)>\n",
       "Coordinates:\n",
       "  * time     (time) object 2016-08-01 03:00:00 ... 2016-08-01 09:00:00\n",
       "  * grid_xt  (grid_xt) float32 0.1171875 0.3515625 ... 59.648438 59.882812\n",
       "  * grid_yt  (grid_yt) float32 -89.88281 -89.64844 ... 89.64844 89.88281\n",
       "  * pfull    (pfull) float32 4.5137978 8.300872 12.451992 ... 994.3374 998.2764"
      ]
     },
     "execution_count": 10,
     "metadata": {},
     "output_type": "execute_result"
    }
   ],
   "source": [
    "dt = 1\n",
    "count= xr.DataArray(np.r_[:4]*dt, dims=['time'])\n",
    "phi = np.log(ds.z/30000+1) + count\n",
    "storage = storage_fixed_height(phi, ds.z, dt=dt).dropna('time')\n",
    "storage"
   ]
  },
  {
   "cell_type": "code",
   "execution_count": 11,
   "metadata": {},
   "outputs": [],
   "source": [
    "avg_dims = ['grid_yt', 'grid_xt', 'pfull']"
   ]
  },
  {
   "cell_type": "code",
   "execution_count": 12,
   "metadata": {},
   "outputs": [
    {
     "data": {
      "text/plain": [
       "<xarray.DataArray (time: 3)>\n",
       "array([1., 1., 1.])\n",
       "Coordinates:\n",
       "  * time     (time) object 2016-08-01 03:00:00 ... 2016-08-01 09:00:00"
      ]
     },
     "execution_count": 12,
     "metadata": {},
     "output_type": "execute_result"
    }
   ],
   "source": [
    "storage.mean(avg_dims).compute()"
   ]
  },
  {
   "cell_type": "code",
   "execution_count": 13,
   "metadata": {},
   "outputs": [
    {
     "data": {
      "text/plain": [
       "<xarray.DataArray (time: 3)>\n",
       "array([2.199661e-06, 3.205983e-06, 3.126552e-06])\n",
       "Coordinates:\n",
       "  * time     (time) object 2016-08-01 03:00:00 ... 2016-08-01 09:00:00"
      ]
     },
     "execution_count": 13,
     "metadata": {},
     "output_type": "execute_result"
    }
   ],
   "source": [
    "storage.std(avg_dims).compute()"
   ]
  },
  {
   "cell_type": "markdown",
   "metadata": {},
   "source": [
    "This shows that the storage calculation is accurate for time varying inputs."
   ]
  }
 ],
 "metadata": {
  "kernelspec": {
   "display_name": "Python [conda env:.conda-fv3net]",
   "language": "python",
   "name": "conda-env-.conda-fv3net-py"
  },
  "language_info": {
   "codemirror_mode": {
    "name": "ipython",
    "version": 3
   },
   "file_extension": ".py",
   "mimetype": "text/x-python",
   "name": "python",
   "nbconvert_exporter": "python",
   "pygments_lexer": "ipython3",
   "version": "3.7.3"
  }
 },
 "nbformat": 4,
 "nbformat_minor": 2
}
