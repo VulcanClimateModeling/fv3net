{
 "cells": [
  {
   "cell_type": "code",
   "execution_count": 1,
   "metadata": {},
   "outputs": [
    {
     "name": "stdout",
     "output_type": "stream",
     "text": [
      "/home/noahb/fv3net\n"
     ]
    }
   ],
   "source": [
    "cd .."
   ]
  },
  {
   "cell_type": "code",
   "execution_count": 2,
   "metadata": {},
   "outputs": [],
   "source": [
    "import xarray as xr\n",
    "from src.data.advect import *"
   ]
  },
  {
   "cell_type": "code",
   "execution_count": 3,
   "metadata": {},
   "outputs": [],
   "source": [
    "ds = xr.open_zarr(\"/home/noahb/data/2019-08-07_from-2019-07-17-GFDL_FV3_DYAMOND_0.25deg_15minute.zarr\")\n",
    "data_3d = xr.open_zarr(\"/home/noahb/data/2019-07-17-GFDL_FV3_DYAMOND_0.25deg_15minute/3d.zarr/\").merge(ds)\n",
    "data_2d = xr.open_zarr(\"/home/noahb/data/2019-07-17-GFDL_FV3_DYAMOND_0.25deg_15minute/2d.zarr/\")\n",
    "\n",
    "h = height_on_model_levels(data_3d)\n",
    "data_3d['z'] = h"
   ]
  },
  {
   "cell_type": "code",
   "execution_count": 4,
   "metadata": {},
   "outputs": [],
   "source": [
    "mkdir -p data/interim"
   ]
  },
  {
   "cell_type": "code",
   "execution_count": 20,
   "metadata": {},
   "outputs": [
    {
     "data": {
      "text/plain": [
       "<xarray.backends.zarr.ZarrStore at 0x7f3b5f869668>"
      ]
     },
     "execution_count": 20,
     "metadata": {},
     "output_type": "execute_result"
    }
   ],
   "source": [
    "variables = [key for key in data_3d if not key.endswith('plev')]\n",
    "\n",
    "chunked_data = data_3d[variables].chunk({'grid_xt': 256, 'grid_yt': 256, 'time': 1})\n",
    "\n",
    "# delete chunks encoding following https://github.com/pydata/xarray/issues/2300\n",
    "for key in chunked_data:\n",
    "    try:\n",
    "        del chunked_data[key].encoding['chunks']\n",
    "    except:\n",
    "        pass\n",
    "    \n",
    "chunked_data.to_zarr(\"data/interim/2019-07-17-FV3_DYAMOND_0.25deg_15minute_256x256_blocks.zarr\", mode=\"w\")"
   ]
  }
 ],
 "metadata": {
  "kernelspec": {
   "display_name": "Python [conda env:.conda-fv3net]",
   "language": "python",
   "name": "conda-env-.conda-fv3net-py"
  },
  "language_info": {
   "codemirror_mode": {
    "name": "ipython",
    "version": 3
   },
   "file_extension": ".py",
   "mimetype": "text/x-python",
   "name": "python",
   "nbconvert_exporter": "python",
   "pygments_lexer": "ipython3",
   "version": "3.7.3"
  }
 },
 "nbformat": 4,
 "nbformat_minor": 2
}
