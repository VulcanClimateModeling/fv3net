{
 "cells": [
  {
   "cell_type": "markdown",
   "metadata": {},
   "source": [
    "Author: Noah Brenowitz\n",
    "\n",
    "In this notebook, I demonstrate restarting FV3GFS from data sent by spencer. The main complications are \n",
    "1. The surface data needs to be coarse-grained.\n",
    "2. "
   ]
  },
  {
   "cell_type": "code",
   "execution_count": null,
   "metadata": {},
   "outputs": [],
   "source": [
    "%matplotlib inline"
   ]
  },
  {
   "cell_type": "code",
   "execution_count": null,
   "metadata": {},
   "outputs": [],
   "source": [
    "cd ../"
   ]
  },
  {
   "cell_type": "code",
   "execution_count": null,
   "metadata": {},
   "outputs": [],
   "source": [
    "from src.fv3 import *\n",
    "from os.path import join"
   ]
  },
  {
   "cell_type": "markdown",
   "metadata": {},
   "source": [
    "# Running the analysis"
   ]
  },
  {
   "cell_type": "markdown",
   "metadata": {},
   "source": [
    "Download the C96 restart data if it doesn't exist"
   ]
  },
  {
   "cell_type": "code",
   "execution_count": null,
   "metadata": {},
   "outputs": [],
   "source": [
    "%%bash\n",
    "\n",
    "outputdir=2019-09-30-C3072-to-C96-restart\n",
    "\n",
    "\n",
    "if [[ ! -d data/raw/$outputdir ]]\n",
    "then\n",
    "    file=2019-09-30-C3072-X-SHiELD-to-C96-restart.tar.gz\n",
    "    gsutil cp gs://vcm-ml-data/$file .\n",
    "    tar xzf $file\n",
    "    mv $outputdir data/raw\n",
    "fi"
   ]
  },
  {
   "cell_type": "markdown",
   "metadata": {},
   "source": [
    "Download the rundata for "
   ]
  },
  {
   "cell_type": "code",
   "execution_count": null,
   "metadata": {},
   "outputs": [],
   "source": [
    "%%bash\n",
    "\n",
    "[[ -e experiments/2019-10-02-restart_C48_from_C3072_rundir/ ]] && exit 0\n",
    "\n",
    "mkdir -p experiments\n",
    "\n",
    "file=2019-10-02-restart_C48_from_C3072_rundir.tar\n",
    "gsutil cp gs://vcm-ml-data/$file .\n",
    "\n",
    "    (cd  experiments \n",
    "    \n",
    "     tar xf ../$file\n",
    "     \n",
    "    )\n",
    "rm -rf $file"
   ]
  },
  {
   "cell_type": "code",
   "execution_count": null,
   "metadata": {},
   "outputs": [],
   "source": [
    "sfc_data_dir = 'data/raw/2019-09-30-C3072-to-C96-restart/'\n",
    "template_dir = 'experiments/2019-10-02-restart_C48_from_C3072_rundir/restart_C48_from_C3072_nosfc/'"
   ]
  },
  {
   "cell_type": "code",
   "execution_count": null,
   "metadata": {},
   "outputs": [],
   "source": [
    "sfc_data = coarsen_sfc_data_in_directory(sfc_data_dir, method='median')"
   ]
  },
  {
   "cell_type": "code",
   "execution_count": null,
   "metadata": {},
   "outputs": [],
   "source": [
    "sfc_data.slmsk.plot(col='tiles')"
   ]
  },
  {
   "cell_type": "markdown",
   "metadata": {},
   "source": [
    "I fixed the integer valued sea land mask."
   ]
  },
  {
   "cell_type": "code",
   "execution_count": null,
   "metadata": {},
   "outputs": [],
   "source": [
    "rundir = make_experiment(\"2019-10-03-fixIceBug\", sfc_data, namelist_path=\"assets/restart_c48.nml\", template_dir=template_dir)\n",
    "run_experiment(rundir)"
   ]
  },
  {
   "cell_type": "code",
   "execution_count": null,
   "metadata": {},
   "outputs": [],
   "source": [
    "!tail -f {rundir}/rundir/fv3.out | grep DATE"
   ]
  },
  {
   "cell_type": "markdown",
   "metadata": {},
   "source": [
    "# Analyzing the output of the run"
   ]
  },
  {
   "cell_type": "code",
   "execution_count": null,
   "metadata": {},
   "outputs": [],
   "source": [
    "import xarray as xr"
   ]
  },
  {
   "cell_type": "code",
   "execution_count": null,
   "metadata": {},
   "outputs": [],
   "source": [
    "data = xr.open_mfdataset(\"experiments/2019-10-03-fixIceBug/rundir/atmos_4xdaily.tile*.nc\", concat_dim='tiles')"
   ]
  },
  {
   "cell_type": "code",
   "execution_count": null,
   "metadata": {},
   "outputs": [],
   "source": [
    "data.Q925.plot(row='tiles', col='time')"
   ]
  }
 ],
 "metadata": {
  "kernelspec": {
   "display_name": "Python 3",
   "language": "python",
   "name": "python3"
  },
  "language_info": {
   "codemirror_mode": {
    "name": "ipython",
    "version": 3
   },
   "file_extension": ".py",
   "mimetype": "text/x-python",
   "name": "python",
   "nbconvert_exporter": "python",
   "pygments_lexer": "ipython3",
   "version": "3.7.3"
  }
 },
 "nbformat": 4,
 "nbformat_minor": 4
}
