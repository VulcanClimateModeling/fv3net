{
 "cells": [
  {
   "cell_type": "code",
   "execution_count": 1,
   "metadata": {},
   "outputs": [],
   "source": [
    "from src.data import open_dataset\n",
    "ds = open_dataset('1degTrain')"
   ]
  },
  {
   "cell_type": "code",
   "execution_count": 2,
   "metadata": {},
   "outputs": [
    {
     "data": {
      "text/plain": [
       "<xarray.Dataset>\n",
       "Dimensions:         (lat: 180, lon: 360, pfull: 79, time: 4)\n",
       "Coordinates:\n",
       "  * pfull           (pfull) float32 4.5137978 8.300872 ... 994.3374 998.2764\n",
       "  * time            (time) object 2016-08-01 03:00:00 ... 2016-08-01 12:00:00\n",
       "  * lon             (lon) float64 -179.5 -178.5 -177.5 ... 177.5 178.5 179.5\n",
       "  * lat             (lat) float64 -89.5 -88.5 -87.5 -86.5 ... 87.5 88.5 89.5\n",
       "Data variables:\n",
       "    cape            (time, lat, lon) float64 dask.array<shape=(4, 180, 360), chunksize=(1, 180, 360)>\n",
       "    cin             (time, lat, lon) float64 dask.array<shape=(4, 180, 360), chunksize=(1, 180, 360)>\n",
       "    cldc            (time, lat, lon) float64 dask.array<shape=(4, 180, 360), chunksize=(1, 180, 360)>\n",
       "    dp              (time, pfull, lat, lon) float64 dask.array<shape=(4, 79, 180, 360), chunksize=(1, 79, 180, 360)>\n",
       "    dz              (time, pfull, lat, lon) float64 dask.array<shape=(4, 79, 180, 360), chunksize=(1, 79, 180, 360)>\n",
       "    flds            (time, lat, lon) float64 dask.array<shape=(4, 180, 360), chunksize=(1, 180, 360)>\n",
       "    flus            (time, lat, lon) float64 dask.array<shape=(4, 180, 360), chunksize=(1, 180, 360)>\n",
       "    flut            (time, lat, lon) float64 dask.array<shape=(4, 180, 360), chunksize=(1, 180, 360)>\n",
       "    fsds            (time, lat, lon) float64 dask.array<shape=(4, 180, 360), chunksize=(1, 180, 360)>\n",
       "    fsdt            (time, lat, lon) float64 dask.array<shape=(4, 180, 360), chunksize=(1, 180, 360)>\n",
       "    fsus            (time, lat, lon) float64 dask.array<shape=(4, 180, 360), chunksize=(1, 180, 360)>\n",
       "    fsut            (time, lat, lon) float64 dask.array<shape=(4, 180, 360), chunksize=(1, 180, 360)>\n",
       "    h500            (time, lat, lon) float64 dask.array<shape=(4, 180, 360), chunksize=(1, 180, 360)>\n",
       "    intqg           (time, lat, lon) float64 dask.array<shape=(4, 180, 360), chunksize=(1, 180, 360)>\n",
       "    intqi           (time, lat, lon) float64 dask.array<shape=(4, 180, 360), chunksize=(1, 180, 360)>\n",
       "    intql           (time, lat, lon) float64 dask.array<shape=(4, 180, 360), chunksize=(1, 180, 360)>\n",
       "    intqr           (time, lat, lon) float64 dask.array<shape=(4, 180, 360), chunksize=(1, 180, 360)>\n",
       "    intqs           (time, lat, lon) float64 dask.array<shape=(4, 180, 360), chunksize=(1, 180, 360)>\n",
       "    intqv           (time, lat, lon) float64 dask.array<shape=(4, 180, 360), chunksize=(1, 180, 360)>\n",
       "    lhflx           (time, lat, lon) float64 dask.array<shape=(4, 180, 360), chunksize=(1, 180, 360)>\n",
       "    pr              (time, lat, lon) float64 dask.array<shape=(4, 180, 360), chunksize=(1, 180, 360)>\n",
       "    pres            (time, pfull, lat, lon) float64 dask.array<shape=(4, 79, 180, 360), chunksize=(1, 79, 180, 360)>\n",
       "    ps              (time, lat, lon) float64 dask.array<shape=(4, 180, 360), chunksize=(1, 180, 360)>\n",
       "    q2m             (time, lat, lon) float64 dask.array<shape=(4, 180, 360), chunksize=(1, 180, 360)>\n",
       "    qi              (time, pfull, lat, lon) float64 dask.array<shape=(4, 79, 180, 360), chunksize=(1, 79, 180, 360)>\n",
       "    ql              (time, pfull, lat, lon) float64 dask.array<shape=(4, 79, 180, 360), chunksize=(1, 79, 180, 360)>\n",
       "    qr              (time, pfull, lat, lon) float64 dask.array<shape=(4, 79, 180, 360), chunksize=(1, 79, 180, 360)>\n",
       "    qs              (time, lat, lon) float64 dask.array<shape=(4, 180, 360), chunksize=(1, 180, 360)>\n",
       "    qv              (time, pfull, lat, lon) float64 dask.array<shape=(4, 79, 180, 360), chunksize=(1, 79, 180, 360)>\n",
       "    rh500           (time, lat, lon) float64 dask.array<shape=(4, 180, 360), chunksize=(1, 180, 360)>\n",
       "    rh700           (time, lat, lon) float64 dask.array<shape=(4, 180, 360), chunksize=(1, 180, 360)>\n",
       "    rh850           (time, lat, lon) float64 dask.array<shape=(4, 180, 360), chunksize=(1, 180, 360)>\n",
       "    shflx           (time, lat, lon) float64 dask.array<shape=(4, 180, 360), chunksize=(1, 180, 360)>\n",
       "    t2m             (time, lat, lon) float64 dask.array<shape=(4, 180, 360), chunksize=(1, 180, 360)>\n",
       "    temp            (time, pfull, lat, lon) float64 dask.array<shape=(4, 79, 180, 360), chunksize=(1, 79, 180, 360)>\n",
       "    ts              (time, lat, lon) float64 dask.array<shape=(4, 180, 360), chunksize=(1, 180, 360)>\n",
       "    u               (time, pfull, lat, lon) float64 dask.array<shape=(4, 79, 180, 360), chunksize=(1, 79, 180, 360)>\n",
       "    u10m            (time, lat, lon) float64 dask.array<shape=(4, 180, 360), chunksize=(1, 180, 360)>\n",
       "    u200            (time, lat, lon) float64 dask.array<shape=(4, 180, 360), chunksize=(1, 180, 360)>\n",
       "    ustrs           (time, lat, lon) float64 dask.array<shape=(4, 180, 360), chunksize=(1, 180, 360)>\n",
       "    v               (time, pfull, lat, lon) float64 dask.array<shape=(4, 79, 180, 360), chunksize=(1, 79, 180, 360)>\n",
       "    v10m            (time, lat, lon) float64 dask.array<shape=(4, 180, 360), chunksize=(1, 180, 360)>\n",
       "    v200            (time, lat, lon) float64 dask.array<shape=(4, 180, 360), chunksize=(1, 180, 360)>\n",
       "    vstrs           (time, lat, lon) float64 dask.array<shape=(4, 180, 360), chunksize=(1, 180, 360)>\n",
       "    w               (time, pfull, lat, lon) float64 dask.array<shape=(4, 79, 180, 360), chunksize=(1, 79, 180, 360)>\n",
       "    zs              (lat, lon) float64 dask.array<shape=(180, 360), chunksize=(180, 360)>\n",
       "    advection_qv    (time, pfull, lat, lon) float64 dask.array<shape=(4, 79, 180, 360), chunksize=(1, 79, 180, 360)>\n",
       "    advection_temp  (time, pfull, lat, lon) float64 dask.array<shape=(4, 79, 180, 360), chunksize=(1, 79, 180, 360)>\n",
       "    storage_qv      (time, pfull, lat, lon) float64 dask.array<shape=(4, 79, 180, 360), chunksize=(1, 78, 180, 360)>\n",
       "    storage_temp    (time, pfull, lat, lon) float64 dask.array<shape=(4, 79, 180, 360), chunksize=(1, 78, 180, 360)>\n",
       "    q1              (time, pfull, lat, lon) float64 dask.array<shape=(4, 79, 180, 360), chunksize=(1, 78, 180, 360)>\n",
       "    q2              (time, pfull, lat, lon) float64 dask.array<shape=(4, 79, 180, 360), chunksize=(1, 78, 180, 360)>"
      ]
     },
     "execution_count": 2,
     "metadata": {},
     "output_type": "execute_result"
    }
   ],
   "source": [
    "ds"
   ]
  },
  {
   "cell_type": "code",
   "execution_count": 4,
   "metadata": {},
   "outputs": [
    {
     "data": {
      "text/plain": [
       "<xarray.DataArray 'q1' (time: 4, pfull: 79, lat: 180, lon: 360)>\n",
       "dask.array<shape=(4, 79, 180, 360), dtype=float64, chunksize=(1, 78, 180, 360)>\n",
       "Coordinates:\n",
       "  * pfull    (pfull) float32 4.5137978 8.300872 12.451992 ... 994.3374 998.2764\n",
       "  * time     (time) object 2016-08-01 03:00:00 ... 2016-08-01 12:00:00\n",
       "  * lon      (lon) float64 -179.5 -178.5 -177.5 -176.5 ... 177.5 178.5 179.5\n",
       "  * lat      (lat) float64 -89.5 -88.5 -87.5 -86.5 -85.5 ... 86.5 87.5 88.5 89.5"
      ]
     },
     "execution_count": 4,
     "metadata": {},
     "output_type": "execute_result"
    }
   ],
   "source": [
    "ds['q1']"
   ]
  },
  {
   "cell_type": "code",
   "execution_count": 5,
   "metadata": {},
   "outputs": [],
   "source": [
    "q1=ds['q1']"
   ]
  },
  {
   "cell_type": "code",
   "execution_count": 6,
   "metadata": {},
   "outputs": [
    {
     "data": {
      "text/plain": [
       "<xarray.DataArray 'q1' (time: 4, pfull: 79, lat: 180, lon: 360)>\n",
       "dask.array<shape=(4, 79, 180, 360), dtype=float64, chunksize=(1, 78, 180, 360)>\n",
       "Coordinates:\n",
       "  * pfull    (pfull) float32 4.5137978 8.300872 12.451992 ... 994.3374 998.2764\n",
       "  * time     (time) object 2016-08-01 03:00:00 ... 2016-08-01 12:00:00\n",
       "  * lon      (lon) float64 -179.5 -178.5 -177.5 -176.5 ... 177.5 178.5 179.5\n",
       "  * lat      (lat) float64 -89.5 -88.5 -87.5 -86.5 -85.5 ... 86.5 87.5 88.5 89.5"
      ]
     },
     "execution_count": 6,
     "metadata": {},
     "output_type": "execute_result"
    }
   ],
   "source": [
    "q1"
   ]
  },
  {
   "cell_type": "code",
   "execution_count": 8,
   "metadata": {},
   "outputs": [
    {
     "data": {
      "text/plain": [
       "array([-1.55403253e-03, -1.28069996e-04,  5.82630635e-04, -4.16154568e-04,\n",
       "       -2.90851755e-04,  1.28376929e-05,  4.92871196e-04,  8.65044756e-05,\n",
       "       -6.90247187e-04, -6.12386472e-04, -1.96880642e-04, -1.47367427e-04,\n",
       "       -4.86207921e-05,  6.43713570e-05,  9.32645228e-05,  7.10974534e-05,\n",
       "       -9.50875637e-05, -3.03238272e-04, -1.88649435e-04, -3.06927796e-04,\n",
       "       -2.07735276e-04,  2.13998465e-04,  1.34164337e-04, -5.85515535e-05,\n",
       "       -8.03599635e-05, -1.15316771e-04, -1.17105640e-04, -2.19949451e-04,\n",
       "       -4.71113230e-04, -7.55543437e-04, -6.21115072e-04, -4.03106506e-04,\n",
       "       -3.52068510e-04, -4.19844304e-04, -3.48632697e-04, -1.72414548e-04,\n",
       "       -4.21840007e-05,  7.83796572e-06,  3.06053652e-05,  3.86756079e-05,\n",
       "        4.79150816e-05,  2.11589206e-05,  3.99464540e-06,  1.76952298e-05,\n",
       "       -1.01537946e-05, -5.40154571e-05, -5.12788436e-05, -2.28716829e-05,\n",
       "       -5.78139299e-06, -3.79573812e-06, -1.98739864e-06, -3.90769326e-06,\n",
       "       -1.62778911e-05, -4.19165026e-05, -7.07716261e-05, -8.41098431e-05,\n",
       "       -6.86072360e-05, -2.38543790e-05,  2.89715517e-05,  7.09762969e-05,\n",
       "        8.18395116e-05,  8.94252089e-05,  7.57965053e-05,  1.10029226e-04,\n",
       "        9.59420646e-05,  1.47888300e-04,  2.24885318e-04,  2.26321682e-04,\n",
       "        2.48032015e-04,  4.45852810e-04,  7.51846719e-04,  5.61979844e-04,\n",
       "        3.33361219e-04,  1.99574208e-04,  1.97704954e-04,  5.83270730e-05,\n",
       "       -9.39015185e-05, -2.02345403e-04, -1.27465656e-04])"
      ]
     },
     "execution_count": 8,
     "metadata": {},
     "output_type": "execute_result"
    }
   ],
   "source": [
    "q1.isel(time = 0, lat = 0, lon = 1).values"
   ]
  },
  {
   "cell_type": "code",
   "execution_count": 11,
   "metadata": {},
   "outputs": [
    {
     "data": {
      "text/plain": [
       "array([-3.98704641e-14,  4.76286236e-13,  3.16380686e-12, -2.67068726e-11,\n",
       "       -8.23567334e-11, -2.20561530e-12, -6.08656187e-12, -2.99543824e-12,\n",
       "       -1.39772757e-11, -3.87321858e-11, -8.39247593e-12,  5.89327525e-12,\n",
       "       -3.33418161e-11, -1.20217097e-11, -1.34452965e-11, -5.67538234e-12,\n",
       "        1.17694644e-11,  3.31946548e-11,  4.20406820e-11,  5.36663578e-11,\n",
       "       -3.01039830e-12, -3.51076732e-11, -6.17307442e-11, -1.11461775e-10,\n",
       "       -6.70707503e-11, -2.77442254e-11,  3.26886480e-11,  1.42639921e-11,\n",
       "        3.24805382e-11,  1.89908994e-10,  1.07448556e-10,  8.16481447e-11,\n",
       "        1.27006985e-10,  5.93231109e-11, -9.17448069e-12, -4.58042384e-11,\n",
       "       -5.81508482e-11,  6.99007214e-12,  8.47580899e-11,  1.73241831e-10,\n",
       "        2.08450255e-10,  9.39172338e-11, -3.93579114e-11, -7.56276654e-12,\n",
       "        1.94890497e-10,  4.36183737e-10,  4.53841933e-10,  3.86912592e-10,\n",
       "        4.15811561e-10,  4.84370340e-10,  5.66439696e-10,  6.16786664e-10,\n",
       "        7.00700828e-10,  9.81817231e-10,  1.39491984e-09,  1.60146060e-09,\n",
       "        1.56774930e-09,  1.31190204e-09,  7.93151544e-10, -4.07876588e-11,\n",
       "       -9.12188768e-10, -1.71046814e-09, -2.15865512e-09, -2.39329562e-09,\n",
       "       -1.72677595e-09, -1.17036592e-09, -7.66180202e-10,  1.22278006e-09,\n",
       "        2.81543055e-09,  3.29515965e-09,  1.13231943e-09, -2.80250177e-10,\n",
       "        8.92041603e-10,  1.08203967e-09,  1.02919691e-09,  6.34566015e-10,\n",
       "        2.77860584e-10, -3.54532385e-11,  8.71445990e-11])"
      ]
     },
     "execution_count": 11,
     "metadata": {},
     "output_type": "execute_result"
    }
   ],
   "source": [
    "q2 = ds['q2']\n",
    "q2.isel(time = 0, lat = 0, lon = 1).values"
   ]
  },
  {
   "cell_type": "code",
   "execution_count": null,
   "metadata": {},
   "outputs": [],
   "source": []
  }
 ],
 "metadata": {
  "kernelspec": {
   "display_name": "Python [conda env:fv3net] *",
   "language": "python",
   "name": "conda-env-fv3net-py"
  },
  "language_info": {
   "codemirror_mode": {
    "name": "ipython",
    "version": 3
   },
   "file_extension": ".py",
   "mimetype": "text/x-python",
   "name": "python",
   "nbconvert_exporter": "python",
   "pygments_lexer": "ipython3",
   "version": "3.7.3"
  }
 },
 "nbformat": 4,
 "nbformat_minor": 4
}
