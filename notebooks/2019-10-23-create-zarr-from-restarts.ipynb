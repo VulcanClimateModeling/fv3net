{
 "cells": [
  {
   "cell_type": "markdown",
   "metadata": {},
   "source": [
    "### create zarr from FV3 restart files\n",
    "\n",
    "##### post-processes the execution of an FV3 timestep(s) into a zarr data store\n",
    "\n",
    "Brian Henn, VCM, October 2019"
   ]
  },
  {
   "cell_type": "code",
   "execution_count": 104,
   "metadata": {},
   "outputs": [],
   "source": [
    "import xarray as xr\n",
    "import zarr\n",
    "from os.path import join\n",
    "import pandas as pd"
   ]
  },
  {
   "cell_type": "code",
   "execution_count": 24,
   "metadata": {},
   "outputs": [],
   "source": [
    "run_dir = '/home/brianh/dev/fv3net/data/restart/C48/20160805.170000/rundir'\n",
    "restart_dir = 'RESTART'\n",
    "input_dir = 'INPUT'"
   ]
  },
  {
   "cell_type": "code",
   "execution_count": 72,
   "metadata": {},
   "outputs": [],
   "source": [
    "restart_only_prefixes = ['fv_core.res', 'fv_sfc_wind.res', 'fv_tracer.res', 'sfc_data']\n",
    "restart_path_prefixes = [join(restart_dir, restart_prefix) for restart_prefix in restart_only_prefixes]\n",
    "output_only_prefixes = ['phy_data']\n",
    "input_only_prefixes = ['grid_spec', 'oro_data']\n",
    "input_path_prefixes = [join(input_dir, input_prefix) for input_prefix in input_only_prefixes]\n",
    "TILES = range(1,7)\n",
    "tile_suffixes = [f\".tile{tile}.nc\" for tile in TILES]\n",
    "# tile = pd.Index(TILES, name='tile')"
   ]
  },
  {
   "cell_type": "code",
   "execution_count": 61,
   "metadata": {},
   "outputs": [
    {
     "data": {
      "text/plain": [
       "['.tile1.nc', '.tile2.nc', '.tile3.nc', '.tile4.nc', '.tile5.nc', '.tile6.nc']"
      ]
     },
     "execution_count": 61,
     "metadata": {},
     "output_type": "execute_result"
    }
   ],
   "source": [
    "tile_suffixes"
   ]
  },
  {
   "cell_type": "code",
   "execution_count": 62,
   "metadata": {},
   "outputs": [],
   "source": [
    "grid = xr.open_mfdataset(paths=[join(run_dir, input_path_prefixes[0] + tile_suffix) for tile_suffix in tile_suffixes], concat_dim='tile', combine='nested')"
   ]
  },
  {
   "cell_type": "code",
   "execution_count": 95,
   "metadata": {},
   "outputs": [
    {
     "data": {
      "text/plain": [
       "<xarray.Dataset>\n",
       "Dimensions:   (nx: 96, nxp: 97, ny: 96, nyp: 97, tile: 6)\n",
       "Dimensions without coordinates: nx, nxp, ny, nyp, tile\n",
       "Data variables:\n",
       "    x         (tile, nyp, nxp) float32 dask.array<shape=(6, 97, 97), chunksize=(1, 97, 97)>\n",
       "    y         (tile, nyp, nxp) float32 dask.array<shape=(6, 97, 97), chunksize=(1, 97, 97)>\n",
       "    dx        (tile, nyp, nx) float32 dask.array<shape=(6, 97, 96), chunksize=(1, 97, 96)>\n",
       "    dy        (tile, ny, nxp) float32 dask.array<shape=(6, 96, 97), chunksize=(1, 96, 97)>\n",
       "    area      (tile, ny, nx) float32 dask.array<shape=(6, 96, 96), chunksize=(1, 96, 96)>\n",
       "    angle_dx  (tile, nyp, nxp) float32 dask.array<shape=(6, 97, 97), chunksize=(1, 97, 97)>\n",
       "    angle_dy  (tile, nyp, nxp) float32 dask.array<shape=(6, 97, 97), chunksize=(1, 97, 97)>"
      ]
     },
     "execution_count": 95,
     "metadata": {},
     "output_type": "execute_result"
    }
   ],
   "source": [
    "grid"
   ]
  },
  {
   "cell_type": "code",
   "execution_count": 108,
   "metadata": {},
   "outputs": [
    {
     "ename": "SyntaxError",
     "evalue": "invalid syntax (<ipython-input-108-c56019a835c8>, line 4)",
     "output_type": "error",
     "traceback": [
      "\u001b[0;36m  File \u001b[0;32m\"<ipython-input-108-c56019a835c8>\"\u001b[0;36m, line \u001b[0;32m4\u001b[0m\n\u001b[0;31m    ds = ds.isel(dim=[1::2])\u001b[0m\n\u001b[0m                       ^\u001b[0m\n\u001b[0;31mSyntaxError\u001b[0m\u001b[0;31m:\u001b[0m invalid syntax\n"
     ]
    }
   ],
   "source": [
    "def grid_spec_centers_only(ds: xr.Dataset, dims: list) -> xr.Dataset:\n",
    "    ds_out = ds.copy()\n",
    "    for dim in dims:\n",
    "        ds = ds.isel(dim=[1::2])\n",
    "    return ds"
   ]
  },
  {
   "cell_type": "code",
   "execution_count": 100,
   "metadata": {},
   "outputs": [
    {
     "data": {
      "text/plain": [
       "<xarray.DataArray 'x' (tile: 6, nyp: 48, nxp: 48)>\n",
       "dask.array<shape=(6, 48, 48), dtype=float32, chunksize=(1, 48, 48)>\n",
       "Dimensions without coordinates: tile, nyp, nxp"
      ]
     },
     "execution_count": 100,
     "metadata": {},
     "output_type": "execute_result"
    }
   ],
   "source": [
    "grid.x[:, 0:-1:2, 0:-1:2]"
   ]
  },
  {
   "cell_type": "code",
   "execution_count": 105,
   "metadata": {},
   "outputs": [],
   "source": [
    "import cartopy.crs as ccrs\n",
    "import matplotlib.pyplot as plt\n",
    "import numpy as np\n",
    "from matplotlib.collections import PolyCollection, QuadMesh\n",
    "from matplotlib.colors import Normalize"
   ]
  },
  {
   "cell_type": "code",
   "execution_count": null,
   "metadata": {},
   "outputs": [],
   "source": [
    "def construct_polygons(ds):\n",
    "    coords = ds[['grid_lon', 'grid_lat']]\n",
    "    \n",
    "    ll = coords.isel(\n",
    "        grid_x=slice(None, -1),\n",
    "        grid_y=slice(None, -1), \n",
    "        drop=True\n",
    "    ).to_array().rename('ll')\n",
    "    \n",
    "    ul = coords.isel(\n",
    "        grid_x=slice(1, None),\n",
    "        grid_y=slice(None, -1), \n",
    "        drop=True\n",
    "    ).to_array().rename('ul')\n",
    "\n",
    "    lr = coords.isel(\n",
    "        grid_x=slice(None, -1),\n",
    "        grid_y=slice(1, None), \n",
    "        drop=True\n",
    "    ).to_array().rename('lr')\n",
    "    \n",
    "    ur = coords.isel(\n",
    "        grid_x=slice(1, None),\n",
    "        grid_y=slice(1, None), \n",
    "        drop=True\n",
    "    ).to_array().rename('ur')\n",
    "\n",
    "    polygons = xr.merge(\n",
    "        [ll, ul, ur, lr, ll.rename('ll_cyclic')]\n",
    "    ).to_array(dim='corner')\n",
    "    polygons = polygons.stack(polygon=('grid_x', 'grid_y', 'tile'))\n",
    "    return polygons.transpose('polygon', 'corner', 'variable')"
   ]
  },
  {
   "cell_type": "code",
   "execution_count": 74,
   "metadata": {},
   "outputs": [],
   "source": [
    "core = xr.open_mfdataset(paths=[join(run_dir, restart_path_prefixes[0] + tile_suffix) for tile_suffix in tile_suffixes], concat_dim='tile', combine='nested')"
   ]
  },
  {
   "cell_type": "code",
   "execution_count": 77,
   "metadata": {},
   "outputs": [
    {
     "data": {
      "text/plain": [
       "<xarray.Dataset>\n",
       "Dimensions:  (Time: 1, tile: 6, xaxis_1: 48, xaxis_2: 49, yaxis_1: 49, yaxis_2: 48, zaxis_1: 79)\n",
       "Coordinates:\n",
       "  * xaxis_1  (xaxis_1) float64 1.0 2.0 3.0 4.0 5.0 ... 44.0 45.0 46.0 47.0 48.0\n",
       "  * xaxis_2  (xaxis_2) float64 1.0 2.0 3.0 4.0 5.0 ... 45.0 46.0 47.0 48.0 49.0\n",
       "  * yaxis_1  (yaxis_1) float64 1.0 2.0 3.0 4.0 5.0 ... 45.0 46.0 47.0 48.0 49.0\n",
       "  * yaxis_2  (yaxis_2) float64 1.0 2.0 3.0 4.0 5.0 ... 44.0 45.0 46.0 47.0 48.0\n",
       "  * zaxis_1  (zaxis_1) float64 1.0 2.0 3.0 4.0 5.0 ... 75.0 76.0 77.0 78.0 79.0\n",
       "  * Time     (Time) float64 1.0\n",
       "Dimensions without coordinates: tile\n",
       "Data variables:\n",
       "    u        (tile, Time, zaxis_1, yaxis_1, xaxis_1) float64 dask.array<shape=(6, 1, 79, 49, 48), chunksize=(1, 1, 79, 49, 48)>\n",
       "    v        (tile, Time, zaxis_1, yaxis_2, xaxis_2) float64 dask.array<shape=(6, 1, 79, 48, 49), chunksize=(1, 1, 79, 48, 49)>\n",
       "    W        (tile, Time, zaxis_1, yaxis_2, xaxis_1) float64 dask.array<shape=(6, 1, 79, 48, 48), chunksize=(1, 1, 79, 48, 48)>\n",
       "    DZ       (tile, Time, zaxis_1, yaxis_2, xaxis_1) float64 dask.array<shape=(6, 1, 79, 48, 48), chunksize=(1, 1, 79, 48, 48)>\n",
       "    T        (tile, Time, zaxis_1, yaxis_2, xaxis_1) float64 dask.array<shape=(6, 1, 79, 48, 48), chunksize=(1, 1, 79, 48, 48)>\n",
       "    delp     (tile, Time, zaxis_1, yaxis_2, xaxis_1) float64 dask.array<shape=(6, 1, 79, 48, 48), chunksize=(1, 1, 79, 48, 48)>\n",
       "    phis     (tile, Time, yaxis_2, xaxis_1) float64 dask.array<shape=(6, 1, 48, 48), chunksize=(1, 1, 48, 48)>\n",
       "Attributes:\n",
       "    filename:  RESTART/fv_core.res.tile1.nc"
      ]
     },
     "execution_count": 77,
     "metadata": {},
     "output_type": "execute_result"
    }
   ],
   "source": [
    "core"
   ]
  },
  {
   "cell_type": "code",
   "execution_count": 84,
   "metadata": {},
   "outputs": [],
   "source": [
    "data=core.isel(Time=0)['T'].load().stack(polygon=('xaxis_1', 'yaxis_2', 'tile'))"
   ]
  },
  {
   "cell_type": "code",
   "execution_count": 85,
   "metadata": {},
   "outputs": [
    {
     "data": {
      "text/plain": [
       "<xarray.DataArray 'T' (zaxis_1: 79, polygon: 13824)>\n",
       "array([[232.60993 , 244.961451, 255.396593, ..., 233.493777, 232.975132,\n",
       "        244.943228],\n",
       "       [220.874213, 234.881386, 233.444895, ..., 228.595111, 221.414198,\n",
       "        234.94986 ],\n",
       "       [217.050662, 229.998765, 227.924566, ..., 225.597191, 217.443364,\n",
       "        229.709051],\n",
       "       ...,\n",
       "       [285.999075, 289.986722, 300.547645, ..., 287.81766 , 285.817286,\n",
       "        289.593157],\n",
       "       [286.04741 , 290.395704, 300.977414, ..., 288.181539, 285.97295 ,\n",
       "        289.990237],\n",
       "       [286.120552, 290.754627, 301.353941, ..., 288.484815, 286.181433,\n",
       "        290.329979]])\n",
       "Coordinates:\n",
       "  * zaxis_1  (zaxis_1) float64 1.0 2.0 3.0 4.0 5.0 ... 75.0 76.0 77.0 78.0 79.0\n",
       "    Time     float64 1.0\n",
       "  * polygon  (polygon) MultiIndex\n",
       "  - xaxis_1  (polygon) float64 1.0 1.0 1.0 1.0 1.0 ... 48.0 48.0 48.0 48.0 48.0\n",
       "  - yaxis_2  (polygon) float64 1.0 1.0 1.0 1.0 1.0 ... 48.0 48.0 48.0 48.0 48.0\n",
       "  - tile     (polygon) int64 0 1 2 3 4 5 0 1 2 3 4 5 ... 0 1 2 3 4 5 0 1 2 3 4 5\n",
       "Attributes:\n",
       "    long_name:  T\n",
       "    units:      none\n",
       "    checksum:   B33C243420B3AD88"
      ]
     },
     "execution_count": 85,
     "metadata": {},
     "output_type": "execute_result"
    }
   ],
   "source": [
    "data"
   ]
  },
  {
   "cell_type": "code",
   "execution_count": 64,
   "metadata": {},
   "outputs": [
    {
     "data": {
      "text/plain": [
       "['/home/brianh/dev/fv3net/data/restart/C48/20160805.170000/rundir/INPUT/oro_data.tile1.nc',\n",
       " '/home/brianh/dev/fv3net/data/restart/C48/20160805.170000/rundir/INPUT/oro_data.tile2.nc',\n",
       " '/home/brianh/dev/fv3net/data/restart/C48/20160805.170000/rundir/INPUT/oro_data.tile3.nc',\n",
       " '/home/brianh/dev/fv3net/data/restart/C48/20160805.170000/rundir/INPUT/oro_data.tile4.nc',\n",
       " '/home/brianh/dev/fv3net/data/restart/C48/20160805.170000/rundir/INPUT/oro_data.tile5.nc',\n",
       " '/home/brianh/dev/fv3net/data/restart/C48/20160805.170000/rundir/INPUT/oro_data.tile6.nc']"
      ]
     },
     "execution_count": 64,
     "metadata": {},
     "output_type": "execute_result"
    }
   ],
   "source": [
    "[join(run_dir, input_path_prefixes[1] + tile_suffix) for tile_suffix in tile_suffixes]"
   ]
  },
  {
   "cell_type": "code",
   "execution_count": 69,
   "metadata": {},
   "outputs": [
    {
     "data": {
      "text/plain": [
       "<xarray.Dataset>\n",
       "Dimensions:  (Time: 1, xaxis_1: 48, xaxis_2: 49, yaxis_1: 49, yaxis_2: 48, zaxis_1: 79)\n",
       "Coordinates:\n",
       "  * xaxis_1  (xaxis_1) float32 1.0 2.0 3.0 4.0 5.0 ... 44.0 45.0 46.0 47.0 48.0\n",
       "  * Time     (Time) float32 1.0\n",
       "  * zaxis_1  (zaxis_1) float32 1.0 2.0 3.0 4.0 5.0 ... 75.0 76.0 77.0 78.0 79.0\n",
       "  * yaxis_2  (yaxis_2) float32 1.0 2.0 3.0 4.0 5.0 ... 44.0 45.0 46.0 47.0 48.0\n",
       "  * yaxis_1  (yaxis_1) float32 1.0 2.0 3.0 4.0 5.0 ... 45.0 46.0 47.0 48.0 49.0\n",
       "  * xaxis_2  (xaxis_2) float32 1.0 2.0 3.0 4.0 5.0 ... 45.0 46.0 47.0 48.0 49.0\n",
       "Data variables:\n",
       "    phis     (Time, yaxis_2, xaxis_1) float32 ...\n",
       "    delp     (Time, zaxis_1, yaxis_2, xaxis_1) float32 ...\n",
       "    DZ       (Time, zaxis_1, yaxis_2, xaxis_1) float32 ...\n",
       "    W        (Time, zaxis_1, yaxis_2, xaxis_1) float32 ...\n",
       "    T        (Time, zaxis_1, yaxis_2, xaxis_1) float32 ...\n",
       "    u        (Time, zaxis_1, yaxis_1, xaxis_1) float32 ...\n",
       "    v        (Time, zaxis_1, yaxis_2, xaxis_2) float32 ..."
      ]
     },
     "execution_count": 69,
     "metadata": {},
     "output_type": "execute_result"
    }
   ],
   "source": [
    "xr.open_dataset('/home/brianh/dev/fv3net/data/restart/C48/20160805.170000/rundir/INPUT/fv_core.res.tile1.nc')"
   ]
  },
  {
   "cell_type": "code",
   "execution_count": 67,
   "metadata": {},
   "outputs": [
    {
     "data": {
      "text/plain": [
       "<xarray.Dataset>\n",
       "Dimensions:   (nx: 96, nxp: 97, ny: 96, nyp: 97)\n",
       "Dimensions without coordinates: nx, nxp, ny, nyp\n",
       "Data variables:\n",
       "    x         (nyp, nxp) float32 ...\n",
       "    y         (nyp, nxp) float32 ...\n",
       "    dx        (nyp, nx) float32 ...\n",
       "    dy        (ny, nxp) float32 ...\n",
       "    area      (ny, nx) float32 ...\n",
       "    angle_dx  (nyp, nxp) float32 ...\n",
       "    angle_dy  (nyp, nxp) float32 ..."
      ]
     },
     "execution_count": 67,
     "metadata": {},
     "output_type": "execute_result"
    }
   ],
   "source": [
    "xr.open_dataset('/home/brianh/dev/fv3net/data/restart/C48/20160805.170000/rundir/INPUT/grid_spec.tile1.nc')"
   ]
  },
  {
   "cell_type": "code",
   "execution_count": 68,
   "metadata": {},
   "outputs": [
    {
     "data": {
      "text/plain": [
       "<xarray.Dataset>\n",
       "Dimensions:   (nx: 96, nxp: 97, ny: 96, nyp: 97)\n",
       "Dimensions without coordinates: nx, nxp, ny, nyp\n",
       "Data variables:\n",
       "    x         (nyp, nxp) float32 ...\n",
       "    y         (nyp, nxp) float32 ...\n",
       "    dx        (nyp, nx) float32 ...\n",
       "    dy        (ny, nxp) float32 ...\n",
       "    area      (ny, nx) float32 ...\n",
       "    angle_dx  (nyp, nxp) float32 ...\n",
       "    angle_dy  (nyp, nxp) float32 ..."
      ]
     },
     "execution_count": 68,
     "metadata": {},
     "output_type": "execute_result"
    }
   ],
   "source": [
    "xr.open_dataset('/home/brianh/dev/fv3net/data/restart/C48/20160805.170000/rundir/INPUT/grid_spec.tile2.nc')"
   ]
  },
  {
   "cell_type": "code",
   "execution_count": null,
   "metadata": {},
   "outputs": [],
   "source": []
  }
 ],
 "metadata": {
  "kernelspec": {
   "display_name": "Python [conda env:fv3net] *",
   "language": "python",
   "name": "conda-env-fv3net-py"
  },
  "language_info": {
   "codemirror_mode": {
    "name": "ipython",
    "version": 3
   },
   "file_extension": ".py",
   "mimetype": "text/x-python",
   "name": "python",
   "nbconvert_exporter": "python",
   "pygments_lexer": "ipython3",
   "version": "3.7.3"
  }
 },
 "nbformat": 4,
 "nbformat_minor": 4
}
