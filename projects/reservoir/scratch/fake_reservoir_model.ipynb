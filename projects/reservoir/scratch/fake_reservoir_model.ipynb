{
 "cells": [
  {
   "cell_type": "code",
   "execution_count": 1,
   "metadata": {},
   "outputs": [],
   "source": [
    "from fv3fit.reservoir import (\n",
    "    ReservoirHyperparameters,\n",
    "    Reservoir, \n",
    "    ReservoirComputingReadout, \n",
    "    HybridReservoirComputingModel,\n",
    "    RankDivider,\n",
    ")\n",
    "\n",
    "from fv3fit.reservoir.transformers import DoNothingAutoencoder\n",
    "from fv3fit.reservoir.readout import combine_readouts"
   ]
  },
  {
   "cell_type": "code",
   "execution_count": 2,
   "metadata": {},
   "outputs": [],
   "source": [
    "autoencoder = DoNothingAutoencoder([79])"
   ]
  },
  {
   "cell_type": "code",
   "execution_count": 3,
   "metadata": {},
   "outputs": [],
   "source": [
    "\n",
    "hyperparameters = ReservoirHyperparameters(\n",
    "    state_size=3000,\n",
    "    adjacency_matrix_sparsity=0.9,\n",
    "    spectral_radius=0.5,\n",
    "    input_coupling_sparsity=0,\n",
    ")\n",
    "\n",
    "rank_divider = RankDivider([8, 8], [\"x\", \"y\"], [52, 52, 79], overlap=2)\n"
   ]
  },
  {
   "cell_type": "code",
   "execution_count": 4,
   "metadata": {},
   "outputs": [
    {
     "data": {
      "text/plain": [
       "7900"
      ]
     },
     "execution_count": 4,
     "metadata": {},
     "output_type": "execute_result"
    }
   ],
   "source": [
    "rank_divider.subdomain_size_with_overlap"
   ]
  },
  {
   "cell_type": "code",
   "execution_count": 5,
   "metadata": {},
   "outputs": [],
   "source": [
    "input_size_subdomain = rank_divider.subdomain_size_with_overlap * rank_divider.n_subdomains\n",
    "output_size_subdomain = rank_divider.subdomain_xy_size_without_overlap ** 2 * 79 * rank_divider.n_subdomains"
   ]
  },
  {
   "cell_type": "code",
   "execution_count": 6,
   "metadata": {},
   "outputs": [
    {
     "data": {
      "text/plain": [
       "685.65673828125"
      ]
     },
     "execution_count": 6,
     "metadata": {},
     "output_type": "execute_result"
    }
   ],
   "source": [
    "input_size_subdomain * output_size_subdomain * 8 / 1024**3"
   ]
  },
  {
   "cell_type": "markdown",
   "metadata": {},
   "source": [
    "685 GB for single C48 model tile.... with full readout matrix resolution. Need to stack matrices in sparse matrix to get a true readout layer.  But! We have a combine_readouts that loads the block diagonal matrix into"
   ]
  },
  {
   "cell_type": "code",
   "execution_count": 9,
   "metadata": {},
   "outputs": [
    {
     "data": {
      "text/plain": [
       "(10, 10, 79)"
      ]
     },
     "execution_count": 9,
     "metadata": {},
     "output_type": "execute_result"
    }
   ],
   "source": [
    "rank_divider.get_subdomain_extent(True)"
   ]
  },
  {
   "cell_type": "markdown",
   "metadata": {},
   "source": [
    "readout takes flat vector of subdomains stacked column by column\n",
    "\n",
    "input @ coefficenits\n",
    "\n",
    "7900 <> flattened state x 1 ?? @ \n",
    "\n",
    "7900 x ns\n",
    "hidden_state x ns\n",
    "\n",
    "(7900 + hidden_state) x ns\n",
    "nf\n",
    "\n",
    "nf*ns 1D array\n",
    "\n",
    "What are the readout weights?\n",
    "\n",
    "Ax = y\n",
    "\n",
    "nf*ns x nf*ns\n",
    "\n",
    "training inputs X is ntimes x nf*ns\n",
    "\n",
    "\n",
    "Ridge regression\n",
    "\n",
    "We have a matrix of input X and a matrix of output Y.  We want to use regression to find a matrix W such that Y = XW.  This is a linear regression problem.  Ridge regression is a regularized version of linear regression.  The regularization term is a penalty on the size of the coefficients.  The ridge coefficients minimize a penalized residual sum of squares,\n",
    "\n",
    "If X is nsamples by nfeatures, then W is nfeatures by noutputs\n",
    "\n",
    "W = (X^T X + alpha*I)^-1 X^T Y\n",
    "\n",
    "X^T X is nfeatures x nfeatures\n",
    "\n",
    "W is nfeatures x noutputs\n",
    "\n",
    "XW is nsamples x noutputs\n",
    "\n",
    "\n",
    "\n"
   ]
  },
  {
   "cell_type": "code",
   "execution_count": null,
   "metadata": {},
   "outputs": [],
   "source": []
  },
  {
   "cell_type": "code",
   "execution_count": null,
   "metadata": {},
   "outputs": [],
   "source": [
    "\n",
    "\n",
    "    reservoir = Reservoir(hyperparameters, input_size=input_size)\n",
    "\n",
    "    # multiplied by the number of subdomains since it's a combined readout\n",
    "    readout = ReservoirComputingReadout(\n",
    "        coefficients=np.random.rand(\n",
    "            state_size * 4 + hybrid_input_size_per_subdomain * 4, output_size * 4\n",
    "        ),\n",
    "        intercepts=np.random.rand(output_size * 4),\n",
    "    )\n",
    "\n",
    "    hybrid_predictor = HybridReservoirComputingModel(\n",
    "        input_variables=[\"a\", \"b\"],\n",
    "        output_variables=[\"a\", \"b\"],\n",
    "        hybrid_variables=[\"a\", \"b\"],\n",
    "        reservoir=reservoir,\n",
    "        readout=readout,\n",
    "        rank_divider=divider,\n",
    "        autoencoder=autoencoder,\n",
    "    )\n",
    "    hybrid_predictor.reset_state()\n",
    "\n",
    "    return hybrid_predictor"
   ]
  },
  {
   "cell_type": "code",
   "execution_count": null,
   "metadata": {},
   "outputs": [],
   "source": []
  }
 ],
 "metadata": {
  "kernelspec": {
   "display_name": "fv3net",
   "language": "python",
   "name": "python3"
  },
  "language_info": {
   "codemirror_mode": {
    "name": "ipython",
    "version": 3
   },
   "file_extension": ".py",
   "mimetype": "text/x-python",
   "name": "python",
   "nbconvert_exporter": "python",
   "pygments_lexer": "ipython3",
   "version": "3.8.16"
  },
  "orig_nbformat": 4
 },
 "nbformat": 4,
 "nbformat_minor": 2
}
