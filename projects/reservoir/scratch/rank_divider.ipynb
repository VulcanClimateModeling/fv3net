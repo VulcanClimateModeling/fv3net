{
 "cells": [
  {
   "cell_type": "code",
   "execution_count": 1,
   "metadata": {},
   "outputs": [],
   "source": [
    "import numpy as np\n",
    "import pace.util"
   ]
  },
  {
   "cell_type": "markdown",
   "metadata": {},
   "source": [
    "In all cases subdomain is just dimension we would like to parallelize across.  The reshaping could be less intense about figuring out the correct way to handle the subdomain stacking by just leaving it as a sampling dimension, perhaps?\n",
    "\n",
    "This notebook plays around with that idea.\n",
    "\n",
    "The two data types we might see are\n",
    "\n",
    "(t, x, y, z)\n",
    "\n",
    "or \n",
    "\n",
    "(x, y, z)\n",
    "\n",
    "The tile divisions happen along the (x,y) dimension only.  Currently z is inferred.\n",
    "\n",
    "Would like to handle subdomains such that it is easy to leave it as a leading dimension, since most of the matrix multiplication will automatically parallelize across that dimension.\n",
    "\n",
    "\n",
    "decomposed to (t, s, xs, ys, z)\n",
    "or (s, xs, ys, z)\n",
    "\n",
    "what about t, s, xs*ys*z?\n",
    "or xs*ys*z?"
   ]
  },
  {
   "cell_type": "code",
   "execution_count": 2,
   "metadata": {},
   "outputs": [],
   "source": [
    "partitioner = pace.util.TilePartitioner((2, 2))"
   ]
  },
  {
   "cell_type": "code",
   "execution_count": 8,
   "metadata": {},
   "outputs": [
    {
     "data": {
      "text/plain": [
       "(slice(0, 3, None), slice(0, 2, None), slice(0, 10, None))"
      ]
     },
     "execution_count": 8,
     "metadata": {},
     "output_type": "execute_result"
    }
   ],
   "source": [
    "partitioner.subtile_slice(0, [\"x\", \"y\", \"feature\"], (6, 4, 10))"
   ]
  },
  {
   "cell_type": "code",
   "execution_count": 11,
   "metadata": {},
   "outputs": [
    {
     "data": {
      "text/plain": [
       "(slice(0, 3, None), slice(2, 4, None), slice(0, 10, None))"
      ]
     },
     "execution_count": 11,
     "metadata": {},
     "output_type": "execute_result"
    }
   ],
   "source": [
    "partitioner.subtile_slice(1, [\"y\", \"x\", \"feature\"], (6, 4, 10))"
   ]
  },
  {
   "cell_type": "markdown",
   "metadata": {},
   "source": [
    "It doesn't have to be square, but it does have to be even.  We pass the extent without any overlap into the function.  The function returns slices for x,y or x,y,z where z is the full information.  We can include the feauture in the decomposition function to reduce reliance on inference."
   ]
  },
  {
   "cell_type": "code",
   "execution_count": 4,
   "metadata": {},
   "outputs": [
    {
     "name": "stderr",
     "output_type": "stream",
     "text": [
      "<ipython-input-4-a64bf0a6f53f>:3: FutureWarning: Using a non-tuple sequence for multidimensional indexing is deprecated; use `arr[tuple(seq)]` instead of `arr[seq]`. In the future this will be interpreted as an array index, `arr[np.array(seq)]`, which will result either in an error or a different result.\n",
      "  a[sl].shape\n"
     ]
    },
    {
     "data": {
      "text/plain": [
       "(6, 2, 2)"
      ]
     },
     "execution_count": 4,
     "metadata": {},
     "output_type": "execute_result"
    }
   ],
   "source": [
    "a = np.ones((6, 4, 10))\n",
    "sl = [..., slice(0, 2), slice(0, 2)]\n",
    "a[sl].shape"
   ]
  },
  {
   "cell_type": "code",
   "execution_count": 5,
   "metadata": {},
   "outputs": [],
   "source": [
    "from typing import Sequence, Tuple, Optional\n"
   ]
  },
  {
   "cell_type": "code",
   "execution_count": 14,
   "metadata": {},
   "outputs": [],
   "source": [
    "\n",
    "def _check_feature_dims_consistent(data_shape, feature_shape):\n",
    "    n_feature_dims = len(feature_shape)\n",
    "    feature_dims = data_shape[-n_feature_dims:]\n",
    "    if feature_dims != feature_shape:\n",
    "        raise ValueError(f\"Feature dimensions of data {feature_dims} are not consistent with expected: {feature_shape}\")\n",
    "\n",
    "class RankXYDivider:\n",
    "    def __init__(\n",
    "        self,\n",
    "        subdomain_layout: Tuple[int, int],\n",
    "        rank_extent: Tuple[int, int],  # shape of full x,y data, including overlap, easier to initialize from halo included data\n",
    "        z_feature: Optional[int],\n",
    "    ):\n",
    "        if len(subdomain_layout) != 2:\n",
    "            raise ValueError(\"Rank divider only handles 2D subdomain layouts\")\n",
    "        \n",
    "        self.rank_extent = rank_extent\n",
    "        self.subdomain_layout = subdomain_layout\n",
    "        self.n_subdomains = subdomain_layout[0] * subdomain_layout[1]\n",
    "        self._partitioner = pace.util.TilePartitioner(subdomain_layout)\n",
    "\n",
    "        self._x_rank_extent = self.rank_extent[0]\n",
    "        self._y_rank_extent = self.rank_extent[1]\n",
    "        self._z_feature = z_feature\n",
    "\n",
    "        # TODO: maybe assert that subdomain decomp works for extent and subdomain layout?\n",
    "        self._x_subdomain_extent = self._x_rank_extent // self.subdomain_layout[0]\n",
    "        self._y_subdomain_extent = self._y_rank_extent // self.subdomain_layout[1]\n",
    "\n",
    "    @property\n",
    "    def subdomain_xy_extent(self):\n",
    "        return self._x_subdomain_extent, self._y_subdomain_extent\n",
    "    \n",
    "    @property\n",
    "    def _rank_extent_all_features(self):\n",
    "        # Used for slicing, so needs to be rank extent, no overlap\n",
    "        rank_extent = list(self.rank_extent)\n",
    "\n",
    "        if self._z_feature is not None:\n",
    "            rank_extent += [self._z_feature]\n",
    "        \n",
    "        return rank_extent\n",
    "    \n",
    "    @property\n",
    "    def _rank_dims_all_features(self):\n",
    "        # TODO: y might go before \"x\" since that aligns with row-major order (also, lat, lon, feature)\n",
    "        # probably doesn't matter given x,y agnostic merge subdomains function\n",
    "        rank_dims = [\"x\", \"y\"]\n",
    "\n",
    "        if self._z_feature is not None:\n",
    "            rank_dims += [\"z\"]\n",
    "        \n",
    "        return rank_dims\n",
    "    \n",
    "    def _get_subdomain_slice(self, subdomain_index):\n",
    "        \n",
    "        rank_dims = self._rank_dims_all_features\n",
    "        rank_extent = self._rank_extent_all_features\n",
    "        return self._partitioner.subtile_slice(subdomain_index, rank_dims, rank_extent)\n",
    "   \n",
    "    def _add_potential_leading_dim_to_slices(self, data_shape, dim_slices):\n",
    "\n",
    "        # add leading dimensions to slice if necessary\n",
    "        if len(data_shape) > len(self._rank_dims_all_features):\n",
    "            dim_slices = [..., *dim_slices]\n",
    "\n",
    "        return dim_slices\n",
    "\n",
    "    def get_subdomain(self, data, subdomain_index):\n",
    "        \n",
    "        _check_feature_dims_consistent(data.shape, self._rank_extent_all_features)\n",
    "        dim_slices = self._get_subdomain_slice(subdomain_index)\n",
    "        dim_slices = self._add_potential_leading_dim_to_slices(data.shape, dim_slices)\n",
    "\n",
    "        return data[dim_slices]\n",
    "    \n",
    "    def get_all_subdomains(self, data):\n",
    "        subdomains_with_new_leading_dim = []\n",
    "        for i in range(self.n_subdomains):\n",
    "            subdomain = self.get_subdomain(data, i)\n",
    "            subdomains_with_new_leading_dim.append(subdomain[np.newaxis])\n",
    "        return np.concatenate(subdomains_with_new_leading_dim, axis=0)\n",
    "\n",
    "    @property\n",
    "    def subdomain_shape(self):\n",
    "        shape = list(self.subdomain_xy_extent)\n",
    "        if self._z_feature is not None:\n",
    "            shape += [self._z_feature]\n",
    "        return shape\n",
    "    \n",
    "    @property\n",
    "    def flat_subdomain_shape(self):\n",
    "        return [np.prod(self.subdomain_shape)]\n",
    "\n",
    "    def flatten_subdomain_features(self, data):\n",
    "        feature_shape = self.subdomain_shape\n",
    "        _check_feature_dims_consistent(data.shape, feature_shape)\n",
    "        n_feature_dims = len(feature_shape)\n",
    "        return data.reshape(list(data.shape[:-n_feature_dims]) + [-1])\n",
    "    \n",
    "    def reshape_flat_subdomain_features(self, data):\n",
    "        flat_feature_shape = self.flat_subdomain_shape\n",
    "        _check_feature_dims_consistent(data.shape, flat_feature_shape)\n",
    "        return data.reshape(self.subdomain_shape)\n",
    "    \n",
    "    def merge_all_subdomains(self, data):\n",
    "        # [nsubdomains, leading, ..., x, y, (z)]\n",
    "\n",
    "        if data.shape[0] != self.n_subdomains:\n",
    "            raise ValueError(f\"Expected data to have first dimension of length {self.n_subdomains}, but got {data.shape[0]}\")\n",
    "        \n",
    "        _check_feature_dims_consistent(data.shape, self.subdomain_shape)\n",
    "        rank_extent = self._rank_extent_all_features\n",
    "        new_shape = list(data.shape[1:-len(rank_extent)]) + rank_extent\n",
    "        merged = np.empty(new_shape, dtype=data.dtype)\n",
    "\n",
    "        for i in range(self.n_subdomains):\n",
    "            subdomain = data[i]\n",
    "            dim_slices = self._get_subdomain_slice(i)\n",
    "            dim_slices = self._add_potential_leading_dim_to_slices(subdomain.shape, dim_slices)\n",
    "            merged[dim_slices] = subdomain\n",
    "        \n",
    "        return merged\n",
    "\n",
    "\n",
    "class OverlapRankXYDivider(RankXYDivider):\n",
    "\n",
    "    \"\"\"\n",
    "    Adjusted rank divider to handle halo overlap regions\n",
    "    \"\"\"\n",
    "\n",
    "    def __init__(\n",
    "        self, \n",
    "        subdomain_layout: Tuple[int, int],\n",
    "        overlap_rank_extent: Tuple[int, int],\n",
    "        overlap: int,\n",
    "        z_feature: Optional[int],\n",
    "    ):\n",
    "        if len(subdomain_layout) != 2:\n",
    "            raise ValueError(\"Rank divider only handles 2D subdomain layouts\")\n",
    "        \n",
    "        self.overlap_rank_extent = overlap_rank_extent\n",
    "        self.subdomain_layout = subdomain_layout\n",
    "        self.n_subdomains = subdomain_layout[0] * subdomain_layout[1]\n",
    "        self._partitioner = pace.util.TilePartitioner(subdomain_layout)\n",
    "        self.overlap = overlap\n",
    "\n",
    "        self._x_rank_extent = self.overlap_rank_extent[0]\n",
    "        self._y_rank_extent = self.overlap_rank_extent[1]\n",
    "        self._z_feature = z_feature\n",
    "\n",
    "        self.rank_extent = (\n",
    "            self._x_rank_extent - 2 * self.overlap,\n",
    "            self._y_rank_extent - 2 * self.overlap\n",
    "        )\n",
    "\n",
    "        # TODO: maybe assert that subdomain decomp works for extent and subdomain layout?\n",
    "        self._x_subdomain_extent = self.rank_extent[0] // self.subdomain_layout[0] + 2 * self.overlap\n",
    "        self._y_subdomain_extent = self.rank_extent[1] // self.subdomain_layout[1] + 2 * self.overlap\n",
    "\n",
    "    def _update_slices_with_overlap(self, slices):\n",
    "        rank_dims = self._rank_dims_all_features\n",
    "\n",
    "        x_ind = rank_dims.index(\"x\")\n",
    "        y_ind = rank_dims.index(\"y\")\n",
    "\n",
    "        slices = list(slices)\n",
    "        x_sl, y_sl = slices[x_ind], slices[y_ind]\n",
    "        slices[x_ind] = slice(x_sl.start, x_sl.stop + 2 * self.overlap, None)\n",
    "        slices[y_ind] = slice(y_sl.start, y_sl.stop + 2 * self.overlap, None)\n",
    "\n",
    "        return slices\n",
    "    \n",
    "    def _get_subdomain_slice(self, subdomain_index):\n",
    "        slices = super()._get_subdomain_slice(subdomain_index)\n",
    "        return self._update_slices_with_overlap(slices)\n",
    "    \n",
    "    def merge_all_subdomains(self, data):\n",
    "        raise NotImplementedError(\"Merging overlapped subdomains is not supported.\")\n"
   ]
  },
  {
   "cell_type": "code",
   "execution_count": null,
   "metadata": {},
   "outputs": [],
   "source": []
  }
 ],
 "metadata": {
  "kernelspec": {
   "display_name": "fv3net",
   "language": "python",
   "name": "python3"
  },
  "language_info": {
   "codemirror_mode": {
    "name": "ipython",
    "version": 3
   },
   "file_extension": ".py",
   "mimetype": "text/x-python",
   "name": "python",
   "nbconvert_exporter": "python",
   "pygments_lexer": "ipython3",
   "version": "3.8.16"
  },
  "orig_nbformat": 4
 },
 "nbformat": 4,
 "nbformat_minor": 2
}
