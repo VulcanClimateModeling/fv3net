{
 "cells": [
  {
   "cell_type": "code",
   "execution_count": 1,
   "metadata": {},
   "outputs": [
    {
     "name": "stderr",
     "output_type": "stream",
     "text": [
      "/home/ebrahimn/miniconda3/envs/dlwp2/lib/python3.8/site-packages/tqdm/auto.py:22: TqdmWarning: IProgress not found. Please update jupyter and ipywidgets. See https://ipywidgets.readthedocs.io/en/stable/user_install.html\n",
      "  from .autonotebook import tqdm as notebook_tqdm\n",
      "/home/ebrahimn/miniconda3/envs/dlwp2/lib/python3.8/site-packages/torch/amp/autocast_mode.py:198: UserWarning: User provided device_type of 'cuda', but CUDA is not available. Disabling\n",
      "  warnings.warn('User provided device_type of \\'cuda\\', but CUDA is not available. Disabling')\n"
     ]
    },
    {
     "data": {
      "text/plain": [
       "tensor(5)"
      ]
     },
     "execution_count": 1,
     "metadata": {},
     "output_type": "execute_result"
    }
   ],
   "source": [
    "import dgl\n",
    "import torch\n",
    "import numpy as np\n",
    "import torch.nn as nn\n",
    "import pickle\n",
    "from Newmodel import *\n",
    "\n",
    "n=13824\n",
    "drop_prob=0\n",
    "device=torch.device(\"cuda:0\" if torch.cuda.is_available() else \"cpu\")\n",
    "num_heads=1\n",
    "control_str='S'\n",
    "\n",
    "def getmodel():\n",
    "    g = pickle.load(open(\"UpdatedGraph\", 'rb'))\n",
    "    adjMatrix=g.adj(scipy_fmt='coo')\n",
    "    aa=adjMatrix.todense()\n",
    "    aa=torch.from_numpy(aa).float()\n",
    "\n",
    "    def model(x):\n",
    "        return torch.matmul(x[:,:,0,:],aa)\n",
    "    return model,g\n",
    "\n",
    "model,g=getmodel()\n",
    "model = STGCN_WAVE([1,1], 1, 1, n, g, drop_prob, device, num_heads, control_str).to(device)\n",
    "\n",
    "\n",
    "x=torch.rand(1,1,1,n)\n",
    "\n",
    "x.requires_grad_()\n",
    "y=model(x)\n",
    "y[0,0,0,100].backward()\n",
    "dx=x.grad\n",
    "(dx!=0).sum()\n"
   ]
  }
 ],
 "metadata": {
  "kernelspec": {
   "display_name": "Python 3.8.13 ('dlwp2': conda)",
   "language": "python",
   "name": "python3"
  },
  "language_info": {
   "codemirror_mode": {
    "name": "ipython",
    "version": 3
   },
   "file_extension": ".py",
   "mimetype": "text/x-python",
   "name": "python",
   "nbconvert_exporter": "python",
   "pygments_lexer": "ipython3",
   "version": "3.8.13"
  },
  "orig_nbformat": 4,
  "vscode": {
   "interpreter": {
    "hash": "6dc1de1bc25c146e7b8663a4caf5b22ebe32509a4e20c2a1f047c1febb517b1b"
   }
  }
 },
 "nbformat": 4,
 "nbformat_minor": 2
}
