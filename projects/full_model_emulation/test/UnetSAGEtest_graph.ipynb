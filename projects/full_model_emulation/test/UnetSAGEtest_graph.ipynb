{
 "cells": [
  {
   "cell_type": "code",
   "execution_count": 7,
   "metadata": {},
   "outputs": [
    {
     "data": {
      "text/plain": [
       "tensor(694)"
      ]
     },
     "execution_count": 7,
     "metadata": {},
     "output_type": "execute_result"
    }
   ],
   "source": [
    "import dgl\n",
    "import torch\n",
    "import numpy as np\n",
    "import torch.nn as nn\n",
    "import pickle\n",
    "import torch.nn.functional as F\n",
    "\n",
    "n=1536 #13824 #1534\n",
    "drop_prob=0\n",
    "device=torch.device(\"cuda:0\" if torch.cuda.is_available() else \"cpu\")\n",
    "num_heads=1\n",
    "control_str='S'\n",
    "\n",
    "def getmodel():\n",
    "    g = pickle.load(open(\"UpdatedGraph_Neighbour10_Coarsen3\", 'rb'))\n",
    "    adjMatrix=g.adj(scipy_fmt='coo')\n",
    "    aa=adjMatrix.todense()\n",
    "    aa=torch.from_numpy(aa).float()\n",
    "\n",
    "    def model(x):\n",
    "        return torch.matmul(x[:,:,0,:],aa)\n",
    "    return model,g\n",
    "\n",
    "model,g=getmodel()\n",
    "# model = STGCN_WAVE([1,1], 1, 1, n, g, drop_prob, device, num_heads, control_str).to(device)\n",
    "model = UnetGraphSAGE(g,1,256, 1,2)\n",
    "\n",
    "\n",
    "# x=torch.rand(1,1,1,n)\n",
    "x=torch.rand(n,1)\n",
    "\n",
    "x.requires_grad_()\n",
    "y=model(x)\n",
    "# y[0,0,0,100].backward()\n",
    "y[100,0].backward()\n",
    "\n",
    "dx=x.grad\n",
    "(dx!=0).sum()\n"
   ]
  },
  {
   "cell_type": "code",
   "execution_count": 1,
   "metadata": {},
   "outputs": [
    {
     "name": "stderr",
     "output_type": "stream",
     "text": [
      "/home/ebrahimn/miniconda3/envs/dlwp2/lib/python3.8/site-packages/tqdm/auto.py:22: TqdmWarning: IProgress not found. Please update jupyter and ipywidgets. See https://ipywidgets.readthedocs.io/en/stable/user_install.html\n",
      "  from .autonotebook import tqdm as notebook_tqdm\n"
     ]
    }
   ],
   "source": [
    "from dgl.nn import SAGEConv\n",
    "import torch.nn as nn\n",
    "\n",
    "class UnetGraphSAGE(nn.Module):\n",
    "    def __init__(self, g, in_feats, h_feats,out_feat,num_step):\n",
    "        super(UnetGraphSAGE, self).__init__()\n",
    "        self.conv1 = SAGEConv(in_feats, h_feats, 'mean')\n",
    "        self.conv2 = SAGEConv(h_feats, int(h_feats/2), 'mean')\n",
    "        self.conv3 = SAGEConv(int(h_feats/2), int(h_feats/4), 'mean')\n",
    "        self.conv4 = SAGEConv(int(h_feats/4), int(h_feats/4), 'mean')\n",
    "        self.conv5 = SAGEConv(int(h_feats/2), int(h_feats/2), 'mean')\n",
    "        self.conv6 = SAGEConv(h_feats, out_feat, 'mean')\n",
    "        self.g=g\n",
    "        self.num_step=num_step\n",
    "    def forward(self, in_feat):\n",
    "\n",
    "        for _ in range(self.num_step):\n",
    "            h = self.conv1(g, in_feat)\n",
    "            h = F.relu(h)\n",
    "            h = self.conv2(g, h)\n",
    "            h = F.relu(h)\n",
    "            h = self.conv3(g, h)\n",
    "            h = F.relu(h)\n",
    "            tuple = (self.conv4(self.g, h),h)\n",
    "            h = torch.cat(tuple,dim=1)\n",
    "            h = F.relu(h)\n",
    "            tuple = (self.conv5(self.g, h),h)\n",
    "            h = torch.cat(tuple,dim=1)\n",
    "            h = F.relu(h)\n",
    "            h = self.conv6(self.g, h)\n",
    "            in_feat=h\n",
    "        return h"
   ]
  }
 ],
 "metadata": {
  "kernelspec": {
   "display_name": "Python 3.8.13 ('dlwp2': conda)",
   "language": "python",
   "name": "python3"
  },
  "language_info": {
   "codemirror_mode": {
    "name": "ipython",
    "version": 3
   },
   "file_extension": ".py",
   "mimetype": "text/x-python",
   "name": "python",
   "nbconvert_exporter": "python",
   "pygments_lexer": "ipython3",
   "version": "3.8.13"
  },
  "orig_nbformat": 4,
  "vscode": {
   "interpreter": {
    "hash": "6dc1de1bc25c146e7b8663a4caf5b22ebe32509a4e20c2a1f047c1febb517b1b"
   }
  }
 },
 "nbformat": 4,
 "nbformat_minor": 2
}
