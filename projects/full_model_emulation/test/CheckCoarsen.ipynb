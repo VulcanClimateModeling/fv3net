{
 "cells": [
  {
   "cell_type": "code",
   "execution_count": 1,
   "metadata": {},
   "outputs": [
    {
     "name": "stderr",
     "output_type": "stream",
     "text": [
      "/home/ebrahimn/miniconda3/envs/dlwp2/lib/python3.8/site-packages/tqdm/auto.py:22: TqdmWarning: IProgress not found. Please update jupyter and ipywidgets. See https://ipywidgets.readthedocs.io/en/stable/user_install.html\n",
      "  from .autonotebook import tqdm as notebook_tqdm\n"
     ]
    }
   ],
   "source": [
    "import dgl\n",
    "import torch\n",
    "import torch.nn as nn\n",
    "import torch.nn.functional as F\n",
    "import dgl.function as fn\n",
    "from dgl.nn import SAGEConv\n",
    "from dgl.nn.pytorch import GraphConv, ChebConv, GATConv\n",
    "import numpy as np\n",
    "import dask.diagnostics\n",
    "import fsspec\n",
    "import xarray as xr\n",
    "import matplotlib.pyplot as plt\n",
    "import networkx as nx\n",
    "import os\n",
    "from torch.utils.data import DataLoader\n",
    "import torch.optim as optim\n",
    "import warnings\n",
    "import time\n",
    "import select as sl\n",
    "import pickle\n",
    "from load_data import *\n",
    "from utils import *\n",
    "from Newmodel import *\n",
    "import wandb\n",
    "from fv3net.artifacts.resolve_url import resolve_url\n",
    "from vcm import get_fs\n",
    "\n"
   ]
  },
  {
   "cell_type": "code",
   "execution_count": 2,
   "metadata": {},
   "outputs": [],
   "source": [
    "coarsenInd=2\n",
    "variableList=['h500','h200','h850']\n",
    "TotalSamples=8500\n",
    "Chuncksize=500\n",
    "batch_size=2\n",
    "window=24\n",
    "lead=4\n",
    "\n",
    "data_url = \"gs://vcm-ml-scratch/ebrahimn/2022-07-02/experiment-1-y/fv3gfs_run/\"\n",
    "\n",
    "device = torch.device(\"cuda:0\" if torch.cuda.is_available() else \"cpu\")\n",
    "data_url = \"gs://vcm-ml-scratch/ebrahimn/2022-07-02/experiment-1-y/fv3gfs_run/\" \n",
    "state_training_data = xr.open_zarr(\n",
    "    fsspec.get_mapper(os.path.join(data_url, \"atmos_dt_atmos.zarr\")), consolidated=True\n",
    ")\n",
    "# state_training_data2 = xr.open_zarr(fsspec.get_mapper(os.path.join(data_url, 'sfc_dt_atmos.zarr')))\n",
    "lat_lon_data = xr.open_zarr(\n",
    "    fsspec.get_mapper(os.path.join(data_url, \"state_after_timestep.zarr\"))\n",
    ")\n",
    "\n",
    "landSea = xr.open_zarr(\n",
    "    fsspec.get_mapper(\n",
    "        \"gs://vcm-ml-experiments/default/2022-05-09/baseline-35day-spec-sst/fv3gfs_run/state_after_timestep.zarr\"\n",
    "    )\n",
    ")\n",
    "landSea_Mask = landSea.land_sea_mask[1].load()\n",
    "landSea_Mask = landSea_Mask[:, ::coarsenInd, ::coarsenInd].values.flatten()\n",
    "\n",
    "\n",
    "lat=(lat_lon_data.latitude[1].load())\n",
    "lon=(lat_lon_data.longitude[1].load())\n",
    "lat=lat[:,::coarsenInd,::coarsenInd].values.flatten()\n",
    "lon=lon[:,::coarsenInd,::coarsenInd].values.flatten()\n",
    "# cosLat=np.expand_dims(np.cos(lat),axis=1)\n",
    "# cosLon=np.expand_dims(np.cos(lon),axis=1)\n",
    "# sinLat=np.expand_dims(np.sin(lat),axis=1)\n",
    "# sinLon=np.expand_dims(np.sin(lon),axis=1)\n",
    "cosLat=np.cos(lat)\n",
    "cosLon=np.cos(lon)\n",
    "sinLat=np.sin(lat)\n",
    "sinLon=np.sin(lon)\n",
    "for i in range(3):\n",
    "        if i==0:\n",
    "            sinLon=torch.tensor(sinLon).unsqueeze(0).repeat(int(window/lead),1)\n",
    "            cosLon=torch.tensor(cosLon).unsqueeze(0).repeat(int(window/lead),1)\n",
    "            sinLat=torch.tensor(sinLat).unsqueeze(0).repeat(int(window/lead),1)\n",
    "            cosLat=torch.tensor(cosLat).unsqueeze(0).repeat(int(window/lead),1)\n",
    "            landSea_Mask=torch.tensor(landSea_Mask).unsqueeze(0).repeat(int(window/lead),1)\n",
    "        elif i==1:\n",
    "            sinLon=(sinLon).unsqueeze(0).repeat(1,1,1)\n",
    "            cosLon=(cosLon).unsqueeze(0).repeat(1,1,1)\n",
    "            sinLat=(sinLat).unsqueeze(0).repeat(1,1,1)\n",
    "            cosLat=(cosLat).unsqueeze(0).repeat(1,1,1)\n",
    "            landSea_Mask=(landSea_Mask).unsqueeze(0).repeat(1,1,1)\n",
    "\n",
    "        elif i==2:\n",
    "            sinLon=(sinLon).unsqueeze(0).repeat(batch_size,1,1,1)\n",
    "            cosLon=(cosLon).unsqueeze(0).repeat(batch_size,1,1,1)\n",
    "            sinLat=(sinLat).unsqueeze(0).repeat(batch_size,1,1,1)\n",
    "            cosLat=(cosLat).unsqueeze(0).repeat(batch_size,1,1,1)\n",
    "            landSea_Mask=(landSea_Mask).unsqueeze(0).repeat(batch_size,1,1,1)"
   ]
  },
  {
   "cell_type": "code",
   "execution_count": null,
   "metadata": {},
   "outputs": [],
   "source": [
    "state_training_data"
   ]
  },
  {
   "cell_type": "code",
   "execution_count": 5,
   "metadata": {},
   "outputs": [],
   "source": [
    "ss=0\n",
    "Z500train=state_training_data[variableList[0]].isel(time=slice((ss*Chuncksize),(ss+1)*Chuncksize)).coarsen(grid_yt=coarsenInd).mean().coarsen(grid_xt=coarsenInd).mean()\n",
    "T2mtrain1=state_training_data[variableList[1]].isel(time=slice((ss*Chuncksize),(ss+1)*Chuncksize)).coarsen(grid_yt=coarsenInd).mean().coarsen(grid_xt=coarsenInd).mean()\n",
    "T2mtrain2=state_training_data[variableList[2]].isel(time=slice((ss*Chuncksize),(ss+1)*Chuncksize)).coarsen(grid_yt=coarsenInd).mean().coarsen(grid_xt=coarsenInd).mean()\n"
   ]
  },
  {
   "cell_type": "code",
   "execution_count": 6,
   "metadata": {},
   "outputs": [
    {
     "data": {
      "text/plain": [
       "(6, 500, 24, 24)"
      ]
     },
     "execution_count": 6,
     "metadata": {},
     "output_type": "execute_result"
    }
   ],
   "source": [
    "np.shape(Z500train)"
   ]
  },
  {
   "cell_type": "code",
   "execution_count": 7,
   "metadata": {},
   "outputs": [
    {
     "data": {
      "text/plain": [
       "1536"
      ]
     },
     "execution_count": 7,
     "metadata": {},
     "output_type": "execute_result"
    }
   ],
   "source": [
    "16*16*6"
   ]
  }
 ],
 "metadata": {
  "kernelspec": {
   "display_name": "Python 3.8.13 ('dlwp2': conda)",
   "language": "python",
   "name": "python3"
  },
  "language_info": {
   "codemirror_mode": {
    "name": "ipython",
    "version": 3
   },
   "file_extension": ".py",
   "mimetype": "text/x-python",
   "name": "python",
   "nbconvert_exporter": "python",
   "pygments_lexer": "ipython3",
   "version": "3.8.13"
  },
  "orig_nbformat": 4,
  "vscode": {
   "interpreter": {
    "hash": "6dc1de1bc25c146e7b8663a4caf5b22ebe32509a4e20c2a1f047c1febb517b1b"
   }
  }
 },
 "nbformat": 4,
 "nbformat_minor": 2
}
