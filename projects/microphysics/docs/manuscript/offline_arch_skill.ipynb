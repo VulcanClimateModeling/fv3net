{
 "cells": [
  {
   "cell_type": "code",
   "execution_count": 1,
   "source": [
    "import matplotlib.pyplot as plt\n",
    "import numpy as np\n",
    "import tempfile\n",
    "import tensorflow as tf\n",
    "import xarray as xr\n",
    "import yaml\n",
    "from os.path import join\n",
    "from toolz.itertoolz import groupby\n",
    "\n",
    "from fv3fit.train_microphysics import TrainConfig"
   ],
   "outputs": [
    {
     "output_type": "stream",
     "name": "stderr",
     "text": [
      "2022-12-14 21:47:10.007863: W tensorflow/stream_executor/platform/default/dso_loader.cc:64] Could not load dynamic library 'libcudart.so.11.0'; dlerror: libcudart.so.11.0: cannot open shared object file: No such file or directory\n",
      "2022-12-14 21:47:10.007993: I tensorflow/stream_executor/cuda/cudart_stub.cc:29] Ignore above cudart dlerror if you do not have a GPU set up on your machine.\n"
     ]
    }
   ],
   "metadata": {}
  },
  {
   "cell_type": "code",
   "execution_count": 2,
   "source": [
    "plt.style.use(\"seaborn-colorblind\")"
   ],
   "outputs": [],
   "metadata": {}
  },
  {
   "cell_type": "code",
   "execution_count": 3,
   "source": [
    "# load sizeable chunk of training data\n",
    "# load models for gscond and precpd w/ dense counterpart\n",
    "# do a basic skill calculation by column\n",
    "# plot a vertical plot of skill w/ everything on it and matching colors"
   ],
   "outputs": [],
   "metadata": {}
  },
  {
   "cell_type": "code",
   "execution_count": 11,
   "source": [
    "base_path = \"gs://vcm-ml-experiments/microphysics-emulation/2022-12-13\"\n",
    "model_names = {\n",
    "    # \"precpd-rnn\": \"precpd-diff-only-no-pr-v2\",\n",
    "    \"precpd-dense\": \"precpd-diff-only-dense-no-pr-v2\",\n",
    "    \"gscond-dense-local\": \"gscond-only-qvout-v2\",\n",
    "    \"gscond-dense\": \"gscond-only-dense-qvout-v2\",\n",
    "}\n",
    "\n",
    "model_checkpoint = {\n",
    "    \"precpd-rnn\": \"checkpoints/epoch.014.tf\",\n",
    "    \"precpd-dense\": \"checkpoints/epoch.047.tf\",\n",
    "    \"gscond-dense-local\": \"checkpoints/epoch.047.tf\",\n",
    "    \"gscond-dense\": \"checkpoints/epoch.047.tf\",\n",
    "}\n"
   ],
   "outputs": [],
   "metadata": {}
  },
  {
   "cell_type": "code",
   "execution_count": 7,
   "source": [
    "# Use after successful run\n",
    "def _open_config(path):\n",
    "    with tempfile.TemporaryDirectory() as tmpdir:\n",
    "        dst = f\"{tmpdir}/config.yaml\"\n",
    "        !gsutil cp {path} {dst}\n",
    "        return TrainConfig.from_yaml_path(dst)\n",
    "\n",
    "\n",
    "gscond_cfg_path = f\"{base_path}/{model_names['gscond-dense']}/config.yaml\"\n",
    "precpd_cfg_path = f\"{base_path}/{model_names['precpd-dense']}/config.yaml\"\n",
    "\n",
    "gscond_cfg = _open_config(gscond_cfg_path)\n",
    "precpd_cfg = _open_config(precpd_cfg_path)"
   ],
   "outputs": [
    {
     "output_type": "stream",
     "name": "stdout",
     "text": [
      "Copying gs://vcm-ml-experiments/microphysics-emulation/2022-12-13/gscond-only-dense-qvout-v2/config.yaml...\n",
      "\n",
      "Operation completed over 1 objects/2.8 KiB.                                      \n",
      "Copying gs://vcm-ml-experiments/microphysics-emulation/2022-12-13/precpd-diff-only-dense-no-pr-v2/config.yaml...\n",
      "\n",
      "Operation completed over 1 objects/3.8 KiB.                                      \n"
     ]
    }
   ],
   "metadata": {}
  },
  {
   "cell_type": "code",
   "execution_count": 8,
   "source": [
    "# gscond_cfg_path = \"/home/andrep/repos/fv3net/projects/microphysics/train/gscond-only.yaml\"\n",
    "# precpd_cfg_path = \"/home/andrep/repos/fv3net/projects/microphysics/train/rnn-precpd-diff-only.yaml\"\n",
    "\n",
    "# def _open_config(path):\n",
    "#     with open(path, \"r\") as f:\n",
    "#         cfg_dict = yaml.safe_load(f)[\"config\"]\n",
    "#         return TrainConfig.from_dict(cfg_dict)\n",
    "\n",
    "# gscond_cfg = _open_config(gscond_cfg_path)\n",
    "# precpd_cfg = _open_config(precpd_cfg_path)"
   ],
   "outputs": [],
   "metadata": {}
  },
  {
   "cell_type": "code",
   "execution_count": 9,
   "source": [
    "load_variables = gscond_cfg.model_variables | precpd_cfg.model_variables"
   ],
   "outputs": [],
   "metadata": {}
  },
  {
   "cell_type": "code",
   "execution_count": 12,
   "source": [
    "test_ds = gscond_cfg.open_dataset(gscond_cfg.test_url, 100, list(load_variables))\n",
    "profiles = next(iter(test_ds.unbatch().shuffle(200_000).batch(150_000)))"
   ],
   "outputs": [],
   "metadata": {}
  },
  {
   "cell_type": "code",
   "execution_count": 13,
   "source": [
    "def get_targets(config, sample):\n",
    "    transform = config.build_transform(sample)\n",
    "    return transform.backward(transform.forward(sample))\n",
    "\n",
    "\n",
    "targets = {}\n",
    "for config in [gscond_cfg, precpd_cfg]:\n",
    "    targets.update(get_targets(config, profiles))"
   ],
   "outputs": [],
   "metadata": {}
  },
  {
   "cell_type": "code",
   "execution_count": 29,
   "source": [
    "targets.keys()"
   ],
   "outputs": [
    {
     "output_type": "execute_result",
     "data": {
      "text/plain": [
       "dict_keys(['air_temperature_after_gscond', 'specific_humidity_after_precpd', 'cloud_water_mixing_ratio_input', 'cloud_water_mixing_ratio_after_precpd', 'surface_air_pressure_after_last_gscond', 'specific_humidity_after_last_gscond', 'air_temperature_after_precpd', 'surface_air_pressure', 'air_temperature_after_last_gscond', 'specific_humidity_after_gscond', 'pressure_thickness_of_atmospheric_layer', 'cloud_water_mixing_ratio_after_gscond', 'air_temperature_input', 'specific_humidity_input', 'air_pressure', 'log_cloud_input', 'log_humidity_input', 'log_humidity_after_last_gscond', 'humidity_gscond_difference', 'humidity_gscond_difference_tscaled', 'relative_humidity', 'cloud_precpd_difference', 'temperature_precpd_difference', 'humidity_precpd_difference'])"
      ]
     },
     "metadata": {},
     "execution_count": 29
    }
   ],
   "metadata": {}
  },
  {
   "cell_type": "code",
   "execution_count": 14,
   "source": [
    "models = {\n",
    "    key: tf.keras.models.load_model(join(base_path, name, \"model.tf\"))\n",
    "    for key, name in model_names.items()\n",
    "}"
   ],
   "outputs": [
    {
     "output_type": "stream",
     "name": "stderr",
     "text": [
      "/home/andrep/miniconda3/envs/fv3net/lib/python3.8/site-packages/keras/engine/functional.py:559: UserWarning: Input dict contained keys ['specific_humidity_after_gscond', 'air_temperature_after_gscond', 'cloud_water_mixing_ratio_after_gscond'] which did not match any model input. They will be ignored by the model.\n",
      "  inputs = self._flatten_to_reference_inputs(inputs)\n"
     ]
    }
   ],
   "metadata": {}
  },
  {
   "cell_type": "code",
   "execution_count": 15,
   "source": [
    "def calc_skill(targets, predictions, keys):\n",
    "    skill_out = {}\n",
    "    for key in keys:\n",
    "        diff = predictions[key] - targets[key]\n",
    "        rmse = np.sqrt(np.mean(diff**2, axis=0))\n",
    "        rms = np.sqrt(np.mean(targets[key]**2, axis=0))\n",
    "        skill_out[key] = 1 - rmse/rms\n",
    "\n",
    "    return skill_out"
   ],
   "outputs": [],
   "metadata": {}
  },
  {
   "cell_type": "code",
   "execution_count": 16,
   "source": [
    "r2_columns = {}\n",
    "\n",
    "gscond_fields = [\"humidity_gscond_difference\"]\n",
    "precpd_fields = ['cloud_precpd_difference', 'temperature_precpd_difference', 'humidity_precpd_difference']\n",
    "\n",
    "for key, model in models.items():\n",
    "    result = model.predict(profiles, batch_size=8192)\n",
    "    if \"gscond\" in key:\n",
    "        use_fields = gscond_fields\n",
    "    else:\n",
    "        continue\n",
    "        use_fields = precpd_fields\n",
    "\n",
    "    skill = calc_skill(targets, result, use_fields)\n",
    "    for field_key, r2_profile in skill.items():\n",
    "        r2_columns[(key, field_key)] = r2_profile    \n"
   ],
   "outputs": [
    {
     "output_type": "stream",
     "name": "stderr",
     "text": [
      "/home/andrep/miniconda3/envs/fv3net/lib/python3.8/site-packages/keras/engine/functional.py:559: UserWarning: Input dict contained keys ['specific_humidity_after_precpd', 'air_temperature_after_precpd', 'cloud_water_mixing_ratio_after_precpd'] which did not match any model input. They will be ignored by the model.\n",
      "  inputs = self._flatten_to_reference_inputs(inputs)\n",
      "/home/andrep/miniconda3/envs/fv3net/lib/python3.8/site-packages/keras/engine/functional.py:559: UserWarning: Input dict contained keys ['specific_humidity_after_gscond', 'air_temperature_after_gscond', 'cloud_water_mixing_ratio_after_gscond'] which did not match any model input. They will be ignored by the model.\n",
      "  inputs = self._flatten_to_reference_inputs(inputs)\n",
      "/home/andrep/miniconda3/envs/fv3net/lib/python3.8/site-packages/keras/engine/functional.py:559: UserWarning: Input dict contained keys ['cloud_water_mixing_ratio_after_gscond', 'air_temperature_after_gscond', 'specific_humidity_after_precpd', 'specific_humidity_after_gscond', 'air_temperature_after_precpd', 'cloud_water_mixing_ratio_after_precpd'] which did not match any model input. They will be ignored by the model.\n",
      "  inputs = self._flatten_to_reference_inputs(inputs)\n"
     ]
    }
   ],
   "metadata": {}
  },
  {
   "cell_type": "code",
   "execution_count": 17,
   "source": [
    "plt.figure(dpi=120)\n",
    "for var_key, group in groupby(lambda x: x[1], r2_columns.keys()).items():\n",
    "\n",
    "    plt.figure(dpi=120, figsize=(4,6))\n",
    "    for key in group:\n",
    "        data = xr.DataArray(r2_columns[key], dims=[\"z\"])\n",
    "        line, = data.plot(y=\"z\", label=key[0])\n",
    "\n",
    "    plt.xlabel(\"skill score\")\n",
    "    plt.ylabel(\"level\")\n",
    "    plt.title(var_key)\n",
    "    plt.xlim(0.6, 1)\n",
    "    plt.legend()\n",
    "    plt.show()\n"
   ],
   "outputs": [
    {
     "output_type": "display_data",
     "data": {
      "text/plain": [
       "<Figure size 720x480 with 0 Axes>"
      ]
     },
     "metadata": {}
    },
    {
     "output_type": "display_data",
     "data": {
      "image/png": "[encoded data removed]",
      "text/plain": [
       "<Figure size 480x720 with 1 Axes>"
      ]
     },
     "metadata": {
      "needs_background": "light"
     }
    }
   ],
   "metadata": {}
  },
  {
   "cell_type": "markdown",
   "source": [
    "This is probably just better as a table.  Train the models and re-run the scoring.\n",
    "\n",
    "Also better to use the skill created in offline runs\n",
    "\n",
    "Model Subroutine | Variable | dense | prior informed\n",
    "\n",
    "\n",
    "Another table then is online skill scores"
   ],
   "metadata": {},
   "attachments": {}
  }
 ],
 "metadata": {
  "kernelspec": {
   "name": "python3",
   "display_name": "Python 3.8.13 64-bit ('fv3net': conda)"
  },
  "language_info": {
   "codemirror_mode": {
    "name": "ipython",
    "version": 3
   },
   "file_extension": ".py",
   "mimetype": "text/x-python",
   "name": "python",
   "nbconvert_exporter": "python",
   "pygments_lexer": "ipython3",
   "version": "3.8.13"
  },
  "orig_nbformat": 4,
  "vscode": {
   "interpreter": {
    "hash": "5654b34bd61837d0237636dc460b9895cef77b8a6667534a2e652a5f13d044f6"
   }
  },
  "interpreter": {
   "hash": "ca0e25522d8a31f58294723138fac191da1abeb19c2d059580b4c7ce709c241b"
  }
 },
 "nbformat": 4,
 "nbformat_minor": 2
}