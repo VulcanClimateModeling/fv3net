{
 "cells": [
  {
   "cell_type": "code",
   "execution_count": null,
   "metadata": {},
   "outputs": [],
   "source": [
    "import"
   ]
  }
 ],
 "metadata": {
  "kernelspec": {
   "display_name": "Python 3.8.13 ('fv3net')",
   "language": "python",
   "name": "python3"
  },
  "language_info": {
   "name": "python",
   "version": "3.8.13"
  },
  "orig_nbformat": 4,
  "vscode": {
   "interpreter": {
    "hash": "5654b34bd61837d0237636dc460b9895cef77b8a6667534a2e652a5f13d044f6"
   }
  }
 },
 "nbformat": 4,
 "nbformat_minor": 2
}
